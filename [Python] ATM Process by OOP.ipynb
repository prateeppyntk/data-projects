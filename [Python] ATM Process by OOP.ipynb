{
  "nbformat": 4,
  "nbformat_minor": 0,
  "metadata": {
    "colab": {
      "provenance": []
    },
    "kernelspec": {
      "name": "python3",
      "display_name": "Python 3"
    },
    "language_info": {
      "name": "python"
    }
  },
  "cells": [
    {
      "cell_type": "code",
      "execution_count": null,
      "metadata": {
        "id": "l8db80xe9rDS"
      },
      "outputs": [],
      "source": [
        "# import pandas and random\n",
        "import pandas as pd\n",
        "import random"
      ]
    },
    {
      "cell_type": "code",
      "source": [
        "# create OOP of ATM\n",
        "class ATM:\n",
        "\n",
        "    # create attribute of ATM\n",
        "    def __init__ (self, id, name, password, bank, balance, limit_withdraw) :\n",
        "        self.id = id\n",
        "        self.name = name\n",
        "        self.password = password\n",
        "        self.bank = bank\n",
        "        self.balance = balance\n",
        "        self.limit_withdraw = limit_withdraw\n",
        "\n",
        "    #  create account information method\n",
        "    def account(self) :\n",
        "        print('Please enter your id and password for process.')\n",
        "        input_id = int(input('id => '))\n",
        "        input_pass = int(input('password => '))\n",
        "\n",
        "        if (input_id == self.id and input_pass == self.password) :\n",
        "            print(f'Account Id: {self.id}')\n",
        "            print(f'Account Name: {self.name}')\n",
        "            print(f'Bank Account: {self.bank}')\n",
        "            print(f'Account Balance: {self.balance}')\n",
        "            print(f'Limit of Withdrw: {self.limit_withdraw}')\n",
        "        else :\n",
        "            print('Your input is incorrect, Please do this transaction later.')\n",
        "\n",
        "    # create deposit method\n",
        "    def deposit(self) :\n",
        "        print('Please enter your id and password for process.')\n",
        "        input_id = int(input('id => '))\n",
        "        input_pass = int(input('password => '))\n",
        "\n",
        "        if (input_id == self.id and input_pass == self.password) :\n",
        "            amount = int(input('Please input deposit amount here:'))\n",
        "            self.balance += amount\n",
        "            print(f'Balance of {self.name} account is {self.balance} .')\n",
        "        else :\n",
        "            print('Your input is incorrect, Please do this transaction later.')\n",
        "\n",
        "    # create withdraw method\n",
        "    def withdraw(self) :\n",
        "        print('Please enter your id and password for process.')\n",
        "        input_id = int(input('id => '))\n",
        "        input_pass = int(input('password => '))\n",
        "\n",
        "        if (input_id == self.id and input_pass == self.password) :\n",
        "            over_limit = 0\n",
        "            amount = int(input('Please input withdraw amount here:'))\n",
        "            if amount > self.limit_withdraw :\n",
        "                over_limit = amount - self.limit_withdraw\n",
        "                print('We cannot proceed as your request')\n",
        "                print(f'Because withdraw amount is over your limit = {over_limit}.\\nPlease change your limit of withdraw before do this transaction.')\n",
        "            else :\n",
        "                self.balance -= amount\n",
        "                print(f'Balance of {self.name} account is {self.balance} .')\n",
        "        else :\n",
        "            print('Your input is incorrect, Please do this transaction later.')\n",
        "\n",
        "    # create change limit of withdrw method\n",
        "    def change_limit(self) :\n",
        "        print('Please enter your id and password for process.')\n",
        "        input_id = int(input('id => '))\n",
        "        input_pass = int(input('password => '))\n",
        "\n",
        "        if (input_id == self.id and input_pass == self.password) :\n",
        "            new_limit = int(input('Please input your new limit of withdraw here:'))\n",
        "            self.limit_withdraw = new_limit\n",
        "            print(f'Your limit of withdraw already changed to {self.limit_withdraw} successfully.')\n",
        "        else :\n",
        "            print('Your input is incorrect, Please do this transaction later.')\n",
        "\n",
        "    # create change password method\n",
        "    def change_pass(self) :\n",
        "        print('Please enter your id and password for process.')\n",
        "        input_id = int(input('id => '))\n",
        "        input_pass = int(input('password => '))\n",
        "\n",
        "        if (input_id == self.id and input_pass == self.password) :\n",
        "            new_pass = int(input('Please input your new password here:'))\n",
        "            self.password = new_pass\n",
        "            print(f'Your password already changed to {self.password} successfully.')\n",
        "        else :\n",
        "            print('Your input is incorrect, Please do this transaction later.')\n",
        "\n",
        "    # create requet otp method\n",
        "    def shop_online(self) :\n",
        "        print('Please enter your id and password for process.')\n",
        "        input_id = int(input('id => '))\n",
        "        input_pass = int(input('password => '))\n",
        "\n",
        "        if (input_id == self.id and input_pass == self.password) :\n",
        "            add_deposit = 0\n",
        "            input_buy = int(input('Please input your purchase amount:'))\n",
        "            random_int = ['0','1','2','3','4','5','6','7','8','9']\n",
        "            otp = \"\".join(random.sample(random_int,6))\n",
        "            print(f'Your OTP is : {otp}')\n",
        "            input_otp = input('Please input OTP:')\n",
        "\n",
        "            if input_otp == otp :\n",
        "                if input_buy <= self.balance :\n",
        "                    self.balance -= input_buy\n",
        "                    print('Your transaction is succeeded.')\n",
        "                    print(f'Balance of {self.name} account is {self.balance} .')\n",
        "                else :\n",
        "                    add_deposit = input_buy - self.balance\n",
        "                    print('We cannot proceed as your request because your purchase amount is over your balance.')\n",
        "                    print(f'Your current balance is {self.balance}, Please deposit {add_deposit} to your account for do the transaction.')\n",
        "            else :\n",
        "                print('Your OTP is incorrect.')"
      ],
      "metadata": {
        "id": "gphatPgg-Vmy"
      },
      "execution_count": null,
      "outputs": []
    },
    {
      "cell_type": "code",
      "source": [
        "cust1 = ATM(1,'David',101010,'Scb',50000,20000)\n",
        "cust2 = ATM(2,'Mary',202020,'Kbank',10000,5000)\n",
        "cust3 = ATM(3,'Ann',303030,'Ttb',20000,5000)\n",
        "cust4 = ATM(4,'Yoo',404040,'Kbank',50000,10000)\n",
        "cust5 = ATM(5,'John',505050,'Scb',10000,8000)"
      ],
      "metadata": {
        "id": "eVWs2jL2Dffp"
      },
      "execution_count": null,
      "outputs": []
    },
    {
      "cell_type": "code",
      "source": [
        "cust1.account()"
      ],
      "metadata": {
        "colab": {
          "base_uri": "https://localhost:8080/"
        },
        "id": "SXNjQ8b7XxuM",
        "outputId": "bba02dc0-fb55-4803-f897-f9f41427f43d"
      },
      "execution_count": null,
      "outputs": [
        {
          "output_type": "stream",
          "name": "stdout",
          "text": [
            "Please enter your id and password for process.\n",
            "id => 1\n",
            "password => 101010\n",
            "Account Id: 1\n",
            "Account Name: David\n",
            "Bank Account: Scb\n",
            "Account Balance: 50000\n",
            "Limit of Withdrw: 20000\n"
          ]
        }
      ]
    },
    {
      "cell_type": "code",
      "source": [
        "n = list(range(1,6))\n",
        "\n",
        "for i in n:\n",
        "    re = f\"cust{i}.name\"\n",
        "    print(re)"
      ],
      "metadata": {
        "colab": {
          "base_uri": "https://localhost:8080/"
        },
        "id": "69XBy4a6qYay",
        "outputId": "c6a93d0d-bd2c-4aea-b31f-5bf8306dea69"
      },
      "execution_count": null,
      "outputs": [
        {
          "output_type": "stream",
          "name": "stdout",
          "text": [
            "cust1.name\n",
            "cust2.name\n",
            "cust3.name\n",
            "cust4.name\n",
            "cust5.name\n"
          ]
        }
      ]
    },
    {
      "cell_type": "code",
      "source": [
        "cust2.deposit()"
      ],
      "metadata": {
        "colab": {
          "base_uri": "https://localhost:8080/"
        },
        "id": "C6qjDveFNmWR",
        "outputId": "e1bff61f-7c2a-46ee-c2bf-c8b9a9a14566"
      },
      "execution_count": null,
      "outputs": [
        {
          "output_type": "stream",
          "name": "stdout",
          "text": [
            "Please enter your id and password for process.\n",
            "id => 2\n",
            "password => 202020\n",
            "Please input deposit amount here:6000\n",
            "Balance of Mary account is 16000 .\n"
          ]
        }
      ]
    },
    {
      "cell_type": "code",
      "source": [
        "cust3.withdraw()"
      ],
      "metadata": {
        "colab": {
          "base_uri": "https://localhost:8080/"
        },
        "id": "xgA4jELrN40a",
        "outputId": "c50f1162-e51d-4ab6-9c18-c6a5a73a3ba2"
      },
      "execution_count": null,
      "outputs": [
        {
          "output_type": "stream",
          "name": "stdout",
          "text": [
            "Please enter your id and password for process.\n",
            "id => 3\n",
            "password => 303030\n",
            "Please input withdraw amount here:12000\n",
            "We cannot proceed as your request\n",
            "Because withdraw amount is over your limit = 7000.\n",
            "Please change your limit of withdraw before do this transaction.\n"
          ]
        }
      ]
    },
    {
      "cell_type": "code",
      "source": [
        "cust4.change_limit()"
      ],
      "metadata": {
        "colab": {
          "base_uri": "https://localhost:8080/"
        },
        "id": "vp8sM47zOBk4",
        "outputId": "81f58635-1615-4901-d92e-760081a8b24a"
      },
      "execution_count": null,
      "outputs": [
        {
          "output_type": "stream",
          "name": "stdout",
          "text": [
            "Please enter your id and password for process.\n",
            "id => 4\n",
            "password => 404040\n",
            "Please input your new limit of withdraw here:100200\n",
            "Your limit of withdraw already changed to 100200 successfully.\n"
          ]
        }
      ]
    },
    {
      "cell_type": "code",
      "source": [
        "cust4.change_pass()"
      ],
      "metadata": {
        "colab": {
          "base_uri": "https://localhost:8080/"
        },
        "id": "4xVB1JKZVkMD",
        "outputId": "e6586982-a12f-4613-b2bb-576e3607f625"
      },
      "execution_count": null,
      "outputs": [
        {
          "output_type": "stream",
          "name": "stdout",
          "text": [
            "Please enter your id and password for process.\n",
            "id => 4\n",
            "password => 404040\n",
            "Please input your new password here:994400\n",
            "Your password already changed to 994400 successfully.\n"
          ]
        }
      ]
    },
    {
      "cell_type": "code",
      "source": [
        "cust5.shop_online()"
      ],
      "metadata": {
        "colab": {
          "base_uri": "https://localhost:8080/"
        },
        "id": "ixOhhBv4OgXL",
        "outputId": "edb721be-5cf8-4f7c-d90b-63d94e263e82"
      },
      "execution_count": null,
      "outputs": [
        {
          "output_type": "stream",
          "name": "stdout",
          "text": [
            "Please enter your id and password for process.\n",
            "id => 5\n",
            "password => 505050\n",
            "Please input your purchase amount:20000\n",
            "Your OTP is : 314265\n",
            "Please input OTP:314265\n",
            "We cannot proceed as your request because your purchase amount is over your balance.\n",
            "Your current balance is 10000, Please deposit 10000 to your account for do the transaction.\n"
          ]
        }
      ]
    }
  ]
}
