{
  "nbformat": 4,
  "nbformat_minor": 0,
  "metadata": {
    "colab": {
      "provenance": [],
      "collapsed_sections": [
        "ZsQTgIQK0Buz",
        "V84BDC-60s5p",
        "iuteMWeS092m",
        "rphh90U62U3L"
      ]
    },
    "kernelspec": {
      "name": "ir",
      "display_name": "R"
    },
    "language_info": {
      "name": "R"
    }
  },
  "cells": [
    {
      "cell_type": "markdown",
      "source": [
        "# **Load Library(tidyverse) And Library(rvest)**"
      ],
      "metadata": {
        "id": "ZsQTgIQK0Buz"
      }
    },
    {
      "cell_type": "code",
      "source": [
        "library(tidyverse)"
      ],
      "metadata": {
        "id": "Yb3ChDy9MVyR",
        "colab": {
          "base_uri": "https://localhost:8080/"
        },
        "outputId": "81f9e4a6-3291-4b21-ea2d-12f24ae971b3"
      },
      "execution_count": null,
      "outputs": [
        {
          "output_type": "stream",
          "name": "stderr",
          "text": [
            "── \u001b[1mAttaching core tidyverse packages\u001b[22m ──────────────────────── tidyverse 2.0.0 ──\n",
            "\u001b[32m✔\u001b[39m \u001b[34mdplyr    \u001b[39m 1.1.2     \u001b[32m✔\u001b[39m \u001b[34mreadr    \u001b[39m 2.1.4\n",
            "\u001b[32m✔\u001b[39m \u001b[34mforcats  \u001b[39m 1.0.0     \u001b[32m✔\u001b[39m \u001b[34mstringr  \u001b[39m 1.5.0\n",
            "\u001b[32m✔\u001b[39m \u001b[34mggplot2  \u001b[39m 3.4.3     \u001b[32m✔\u001b[39m \u001b[34mtibble   \u001b[39m 3.2.1\n",
            "\u001b[32m✔\u001b[39m \u001b[34mlubridate\u001b[39m 1.9.2     \u001b[32m✔\u001b[39m \u001b[34mtidyr    \u001b[39m 1.3.0\n",
            "\u001b[32m✔\u001b[39m \u001b[34mpurrr    \u001b[39m 1.0.2     \n",
            "── \u001b[1mConflicts\u001b[22m ────────────────────────────────────────── tidyverse_conflicts() ──\n",
            "\u001b[31m✖\u001b[39m \u001b[34mdplyr\u001b[39m::\u001b[32mfilter()\u001b[39m masks \u001b[34mstats\u001b[39m::filter()\n",
            "\u001b[31m✖\u001b[39m \u001b[34mdplyr\u001b[39m::\u001b[32mlag()\u001b[39m    masks \u001b[34mstats\u001b[39m::lag()\n",
            "\u001b[36mℹ\u001b[39m Use the conflicted package (\u001b[3m\u001b[34m<http://conflicted.r-lib.org/>\u001b[39m\u001b[23m) to force all conflicts to become errors\n"
          ]
        }
      ]
    },
    {
      "cell_type": "code",
      "source": [
        "library(rvest)"
      ],
      "metadata": {
        "id": "_7kBQE66Mjk3",
        "colab": {
          "base_uri": "https://localhost:8080/"
        },
        "outputId": "0d4e591b-d3d1-485f-c694-e835f3532769"
      },
      "execution_count": null,
      "outputs": [
        {
          "output_type": "stream",
          "name": "stderr",
          "text": [
            "\n",
            "Attaching package: ‘rvest’\n",
            "\n",
            "\n",
            "The following object is masked from ‘package:readr’:\n",
            "\n",
            "    guess_encoding\n",
            "\n",
            "\n"
          ]
        }
      ]
    },
    {
      "cell_type": "markdown",
      "source": [
        "# **Import Data From IMDB Website**"
      ],
      "metadata": {
        "id": "V84BDC-60s5p"
      }
    },
    {
      "cell_type": "code",
      "source": [
        "url <- \"https://www.imdb.com/search/title/?groups=top_100&sort=user_rating,desc\""
      ],
      "metadata": {
        "id": "EWYckWXOK5-T"
      },
      "execution_count": null,
      "outputs": []
    },
    {
      "cell_type": "code",
      "source": [
        "names <- url %>%\n",
        "  read_html() %>%\n",
        "  html_elements(\"h3.lister-item-header\") %>%\n",
        "  html_text2()"
      ],
      "metadata": {
        "id": "XpikeBOjLHIY"
      },
      "execution_count": null,
      "outputs": []
    },
    {
      "cell_type": "code",
      "source": [
        "ratings <- url %>%\n",
        "  read_html() %>%\n",
        "  html_elements(\"div.ratings-imdb-rating\") %>%\n",
        "  html_text2() %>%\n",
        "  as.numeric()"
      ],
      "metadata": {
        "id": "WUc6Ko06LLLR"
      },
      "execution_count": null,
      "outputs": []
    },
    {
      "cell_type": "code",
      "source": [
        "movie_rate <- url %>%\n",
        "  read_html() %>%\n",
        "  html_elements(\"span.certificate \") %>%\n",
        "  html_text2()"
      ],
      "metadata": {
        "id": "pQz9cpA010k7"
      },
      "execution_count": null,
      "outputs": []
    },
    {
      "cell_type": "code",
      "source": [
        "times <- url %>%\n",
        "  read_html() %>%\n",
        "  html_elements(\"span.runtime \") %>%\n",
        "  html_text2()\n"
      ],
      "metadata": {
        "id": "CWV7JzDP3snL"
      },
      "execution_count": null,
      "outputs": []
    },
    {
      "cell_type": "code",
      "source": [
        "type <- url %>%\n",
        "  read_html() %>%\n",
        "  html_elements(\"span.genre \") %>%\n",
        "  html_text2()"
      ],
      "metadata": {
        "id": "03ogPHUe33wQ"
      },
      "execution_count": null,
      "outputs": []
    },
    {
      "cell_type": "code",
      "source": [
        "votes <- url %>%\n",
        "  read_html() %>%\n",
        "  html_elements(\"p.sort-num_votes-visible \") %>%\n",
        "  html_text2()"
      ],
      "metadata": {
        "id": "xutulU1-LNbY"
      },
      "execution_count": null,
      "outputs": []
    },
    {
      "cell_type": "markdown",
      "source": [
        "# **Crate Dataframe**"
      ],
      "metadata": {
        "id": "iuteMWeS092m"
      }
    },
    {
      "cell_type": "code",
      "source": [
        "df_imdb = data.frame(names, ratings, movie_rate, times, type, votes)\n",
        "df_imdb"
      ],
      "metadata": {
        "colab": {
          "base_uri": "https://localhost:8080/"
        },
        "id": "LGSz26ffLSWA",
        "outputId": "6ffcccf4-f1f5-4a2b-b850-307c938fb909"
      },
      "execution_count": null,
      "outputs": [
        {
          "output_type": "display_data",
          "data": {
            "text/html": [
              "<table class=\"dataframe\">\n",
              "<caption>A data.frame: 50 × 6</caption>\n",
              "<thead>\n",
              "\t<tr><th scope=col>names</th><th scope=col>ratings</th><th scope=col>movie_rate</th><th scope=col>times</th><th scope=col>type</th><th scope=col>votes</th></tr>\n",
              "\t<tr><th scope=col>&lt;chr&gt;</th><th scope=col>&lt;dbl&gt;</th><th scope=col>&lt;chr&gt;</th><th scope=col>&lt;chr&gt;</th><th scope=col>&lt;chr&gt;</th><th scope=col>&lt;chr&gt;</th></tr>\n",
              "</thead>\n",
              "<tbody>\n",
              "\t<tr><td>1. The Shawshank Redemption (1994)                          </td><td>9.3</td><td>R        </td><td>142 min</td><td>Drama                       </td><td>Votes: 2,794,416 | Gross: $28.34M | Top 250: #1  </td></tr>\n",
              "\t<tr><td>2. The Godfather (1972)                                     </td><td>9.2</td><td>R        </td><td>175 min</td><td>Crime, Drama                </td><td>Votes: 1,946,579 | Gross: $134.97M | Top 250: #2 </td></tr>\n",
              "\t<tr><td>3. The Dark Knight (2008)                                   </td><td>9.0</td><td>PG-13    </td><td>152 min</td><td>Action, Crime, Drama        </td><td>Votes: 2,775,029 | Gross: $534.86M | Top 250: #3 </td></tr>\n",
              "\t<tr><td>4. Schindler's List (1993)                                  </td><td>9.0</td><td>R        </td><td>195 min</td><td>Biography, Drama, History   </td><td>Votes: 1,405,120 | Gross: $96.90M | Top 250: #6  </td></tr>\n",
              "\t<tr><td>5. The Lord of the Rings: The Return of the King (2003)     </td><td>9.0</td><td>PG-13    </td><td>201 min</td><td>Action, Adventure, Drama    </td><td>Votes: 1,913,750 | Gross: $377.85M | Top 250: #7 </td></tr>\n",
              "\t<tr><td>6. 12 Angry Men (1957)                                      </td><td>9.0</td><td>Approved </td><td>96 min </td><td>Crime, Drama                </td><td>Votes: 830,263 | Gross: $4.36M | Top 250: #5     </td></tr>\n",
              "\t<tr><td>7. The Godfather Part II (1974)                             </td><td>9.0</td><td>R        </td><td>202 min</td><td>Crime, Drama                </td><td>Votes: 1,322,285 | Gross: $57.30M | Top 250: #4  </td></tr>\n",
              "\t<tr><td>8. Pulp Fiction (1994)                                      </td><td>8.9</td><td>R        </td><td>154 min</td><td>Crime, Drama                </td><td>Votes: 2,143,599 | Gross: $107.93M | Top 250: #8 </td></tr>\n",
              "\t<tr><td>9. Spider-Man: Across the Spider-Verse (2023)               </td><td>8.8</td><td>PG       </td><td>140 min</td><td>Animation, Action, Adventure</td><td>Votes: 250,642 | Top 250: #19                    </td></tr>\n",
              "\t<tr><td>10. Inception (2010)                                        </td><td>8.8</td><td>PG-13    </td><td>148 min</td><td>Action, Adventure, Sci-Fi   </td><td>Votes: 2,463,620 | Gross: $292.58M | Top 250: #14</td></tr>\n",
              "\t<tr><td>11. Fight Club (1999)                                       </td><td>8.8</td><td>R        </td><td>139 min</td><td>Drama                       </td><td>Votes: 2,228,463 | Gross: $37.03M | Top 250: #12 </td></tr>\n",
              "\t<tr><td>12. The Lord of the Rings: The Fellowship of the Ring (2001)</td><td>8.8</td><td>PG-13    </td><td>178 min</td><td>Action, Adventure, Drama    </td><td>Votes: 1,941,934 | Gross: $315.54M | Top 250: #9 </td></tr>\n",
              "\t<tr><td>13. Forrest Gump (1994)                                     </td><td>8.8</td><td>PG-13    </td><td>142 min</td><td>Drama, Romance              </td><td>Votes: 2,174,133 | Gross: $330.25M | Top 250: #11</td></tr>\n",
              "\t<tr><td>14. The Good, the Bad and the Ugly (1966)                   </td><td>8.8</td><td>Approved </td><td>178 min</td><td>Adventure, Western          </td><td>Votes: 788,179 | Gross: $6.10M | Top 250: #10    </td></tr>\n",
              "\t<tr><td>15. The Lord of the Rings: The Two Towers (2002)            </td><td>8.8</td><td>PG-13    </td><td>179 min</td><td>Action, Adventure, Drama    </td><td>Votes: 1,726,936 | Gross: $342.55M | Top 250: #13</td></tr>\n",
              "\t<tr><td>16. Interstellar (2014)                                     </td><td>8.7</td><td>PG-13    </td><td>169 min</td><td>Adventure, Drama, Sci-Fi    </td><td>Votes: 1,982,374 | Gross: $188.02M | Top 250: #24</td></tr>\n",
              "\t<tr><td>17. Goodfellas (1990)                                       </td><td>8.7</td><td>R        </td><td>145 min</td><td>Biography, Crime, Drama     </td><td>Votes: 1,212,480 | Gross: $46.84M | Top 250: #17 </td></tr>\n",
              "\t<tr><td>18. The Matrix (1999)                                       </td><td>8.7</td><td>R        </td><td>136 min</td><td>Action, Sci-Fi              </td><td>Votes: 1,987,209 | Gross: $171.48M | Top 250: #16</td></tr>\n",
              "\t<tr><td>19. One Flew Over the Cuckoo's Nest (1975)                  </td><td>8.7</td><td>R        </td><td>133 min</td><td>Drama                       </td><td>Votes: 1,042,059 | Gross: $112.00M | Top 250: #18</td></tr>\n",
              "\t<tr><td>20. Star Wars: Episode V - The Empire Strikes Back (1980)   </td><td>8.7</td><td>PG       </td><td>124 min</td><td>Action, Adventure, Fantasy  </td><td>Votes: 1,339,851 | Gross: $290.48M | Top 250: #15</td></tr>\n",
              "\t<tr><td>21. Oppenheimer (2023)                                      </td><td>8.6</td><td>R        </td><td>180 min</td><td>Biography, Drama, History   </td><td>Votes: 416,886 | Top 250: #39                    </td></tr>\n",
              "\t<tr><td>22. Se7en (1995)                                            </td><td>8.6</td><td>R        </td><td>127 min</td><td>Crime, Drama, Mystery       </td><td>Votes: 1,729,908 | Gross: $100.13M | Top 250: #20</td></tr>\n",
              "\t<tr><td>23. The Silence of the Lambs (1991)                         </td><td>8.6</td><td>R        </td><td>118 min</td><td>Crime, Drama, Thriller      </td><td>Votes: 1,490,800 | Gross: $130.74M | Top 250: #23</td></tr>\n",
              "\t<tr><td>24. Star Wars: Episode IV - A New Hope (1977)               </td><td>8.6</td><td>PG       </td><td>121 min</td><td>Action, Adventure, Fantasy  </td><td>Votes: 1,411,621 | Gross: $322.74M | Top 250: #29</td></tr>\n",
              "\t<tr><td>25. The Green Mile (1999)                                   </td><td>8.6</td><td>R        </td><td>189 min</td><td>Crime, Drama, Fantasy       </td><td>Votes: 1,358,207 | Gross: $136.80M | Top 250: #28</td></tr>\n",
              "\t<tr><td>26. Terminator 2: Judgment Day (1991)                       </td><td>8.6</td><td>R        </td><td>137 min</td><td>Action, Sci-Fi              </td><td>Votes: 1,139,976 | Gross: $204.84M | Top 250: #30</td></tr>\n",
              "\t<tr><td>27. Saving Private Ryan (1998)                              </td><td>8.6</td><td>R        </td><td>169 min</td><td>Drama, War                  </td><td>Votes: 1,447,369 | Gross: $216.54M | Top 250: #25</td></tr>\n",
              "\t<tr><td>28. Spirited Away (2001)                                    </td><td>8.6</td><td>PG       </td><td>125 min</td><td>Animation, Adventure, Family</td><td>Votes: 807,743 | Gross: $10.06M | Top 250: #32   </td></tr>\n",
              "\t<tr><td>29. City of God (2002)                                      </td><td>8.6</td><td>R        </td><td>130 min</td><td>Crime, Drama                </td><td>Votes: 780,502 | Gross: $7.56M | Top 250: #26    </td></tr>\n",
              "\t<tr><td>30. Life Is Beautiful (1997)                                </td><td>8.6</td><td>PG-13    </td><td>116 min</td><td>Comedy, Drama, Romance      </td><td>Votes: 721,291 | Gross: $57.60M | Top 250: #27   </td></tr>\n",
              "\t<tr><td>31. Seven Samurai (1954)                                    </td><td>8.6</td><td>Not Rated</td><td>207 min</td><td>Action, Drama               </td><td>Votes: 357,457 | Gross: $0.27M | Top 250: #22    </td></tr>\n",
              "\t<tr><td>32. It's a Wonderful Life (1946)                            </td><td>8.6</td><td>PG       </td><td>130 min</td><td>Drama, Family, Fantasy      </td><td>Votes: 478,286 | Top 250: #21                    </td></tr>\n",
              "\t<tr><td>33. Harakiri (1962)                                         </td><td>8.6</td><td>Not Rated</td><td>133 min</td><td>Action, Drama, Mystery      </td><td>Votes: 63,459 | Top 250: #47                     </td></tr>\n",
              "\t<tr><td>34. Gladiator (2000)                                        </td><td>8.5</td><td>R        </td><td>155 min</td><td>Action, Adventure, Drama    </td><td>Votes: 1,559,872 | Gross: $187.71M | Top 250: #36</td></tr>\n",
              "\t<tr><td>35. The Prestige (2006)                                     </td><td>8.5</td><td>PG-13    </td><td>130 min</td><td>Drama, Mystery, Sci-Fi      </td><td>Votes: 1,393,788 | Gross: $53.09M | Top 250: #43 </td></tr>\n",
              "\t<tr><td>36. Alien (1979)                                            </td><td>8.5</td><td>R        </td><td>117 min</td><td>Horror, Sci-Fi              </td><td>Votes: 917,505 | Gross: $78.90M | Top 250: #53   </td></tr>\n",
              "\t<tr><td>37. The Departed (2006)                                     </td><td>8.5</td><td>R        </td><td>151 min</td><td>Crime, Drama, Thriller      </td><td>Votes: 1,377,550 | Gross: $132.38M | Top 250: #41</td></tr>\n",
              "\t<tr><td>38. Parasite (2019)                                         </td><td>8.5</td><td>R        </td><td>132 min</td><td>Drama, Thriller             </td><td>Votes: 884,700 | Gross: $53.37M | Top 250: #35   </td></tr>\n",
              "\t<tr><td>39. Django Unchained (2012)                                 </td><td>8.5</td><td>R        </td><td>165 min</td><td>Drama, Western              </td><td>Votes: 1,631,546 | Gross: $162.81M | Top 250: #57</td></tr>\n",
              "\t<tr><td>40. Whiplash (2014)                                         </td><td>8.5</td><td>R        </td><td>106 min</td><td>Drama, Music                </td><td>Votes: 929,294 | Gross: $13.09M | Top 250: #42   </td></tr>\n",
              "\t<tr><td>41. Léon: The Professional (1994)                           </td><td>8.5</td><td>R        </td><td>110 min</td><td>Action, Crime, Drama        </td><td>Votes: 1,207,127 | Gross: $19.50M | Top 250: #38 </td></tr>\n",
              "\t<tr><td>42. Back to the Future (1985)                               </td><td>8.5</td><td>PG       </td><td>116 min</td><td>Adventure, Comedy, Sci-Fi   </td><td>Votes: 1,261,059 | Gross: $210.61M | Top 250: #31</td></tr>\n",
              "\t<tr><td>43. The Usual Suspects (1995)                               </td><td>8.5</td><td>R        </td><td>106 min</td><td>Crime, Drama, Mystery       </td><td>Votes: 1,117,322 | Gross: $23.34M | Top 250: #44 </td></tr>\n",
              "\t<tr><td>44. The Pianist (2002)                                      </td><td>8.5</td><td>R        </td><td>150 min</td><td>Biography, Drama, Music     </td><td>Votes: 875,592 | Gross: $32.57M | Top 250: #33   </td></tr>\n",
              "\t<tr><td>45. The Lion King (1994)                                    </td><td>8.5</td><td>G        </td><td>88 min </td><td>Animation, Adventure, Drama </td><td>Votes: 1,103,588 | Gross: $422.78M | Top 250: #37</td></tr>\n",
              "\t<tr><td>46. American History X (1998)                               </td><td>8.5</td><td>R        </td><td>119 min</td><td>Crime, Drama                </td><td>Votes: 1,156,764 | Gross: $6.72M | Top 250: #40  </td></tr>\n",
              "\t<tr><td>47. Casablanca (1942)                                       </td><td>8.5</td><td>PG       </td><td>102 min</td><td>Drama, Romance, War         </td><td>Votes: 591,028 | Gross: $1.02M | Top 250: #46    </td></tr>\n",
              "\t<tr><td>48. Psycho (1960)                                           </td><td>8.5</td><td>R        </td><td>109 min</td><td>Horror, Mystery, Thriller   </td><td>Votes: 697,363 | Gross: $32.00M | Top 250: #34   </td></tr>\n",
              "\t<tr><td>49. The Intouchables (2011)                                 </td><td>8.5</td><td>R        </td><td>112 min</td><td>Biography, Comedy, Drama    </td><td>Votes: 896,244 | Gross: $13.18M | Top 250: #48   </td></tr>\n",
              "\t<tr><td>50. Once Upon a Time in the West (1968)                     </td><td>8.5</td><td>PG-13    </td><td>165 min</td><td>Western                     </td><td>Votes: 341,197 | Gross: $5.32M | Top 250: #51    </td></tr>\n",
              "</tbody>\n",
              "</table>\n"
            ],
            "text/markdown": "\nA data.frame: 50 × 6\n\n| names &lt;chr&gt; | ratings &lt;dbl&gt; | movie_rate &lt;chr&gt; | times &lt;chr&gt; | type &lt;chr&gt; | votes &lt;chr&gt; |\n|---|---|---|---|---|---|\n| 1. The Shawshank Redemption (1994)                           | 9.3 | R         | 142 min | Drama                        | Votes: 2,794,416 | Gross: $28.34M | Top 250: #1   |\n| 2. The Godfather (1972)                                      | 9.2 | R         | 175 min | Crime, Drama                 | Votes: 1,946,579 | Gross: $134.97M | Top 250: #2  |\n| 3. The Dark Knight (2008)                                    | 9.0 | PG-13     | 152 min | Action, Crime, Drama         | Votes: 2,775,029 | Gross: $534.86M | Top 250: #3  |\n| 4. Schindler's List (1993)                                   | 9.0 | R         | 195 min | Biography, Drama, History    | Votes: 1,405,120 | Gross: $96.90M | Top 250: #6   |\n| 5. The Lord of the Rings: The Return of the King (2003)      | 9.0 | PG-13     | 201 min | Action, Adventure, Drama     | Votes: 1,913,750 | Gross: $377.85M | Top 250: #7  |\n| 6. 12 Angry Men (1957)                                       | 9.0 | Approved  | 96 min  | Crime, Drama                 | Votes: 830,263 | Gross: $4.36M | Top 250: #5      |\n| 7. The Godfather Part II (1974)                              | 9.0 | R         | 202 min | Crime, Drama                 | Votes: 1,322,285 | Gross: $57.30M | Top 250: #4   |\n| 8. Pulp Fiction (1994)                                       | 8.9 | R         | 154 min | Crime, Drama                 | Votes: 2,143,599 | Gross: $107.93M | Top 250: #8  |\n| 9. Spider-Man: Across the Spider-Verse (2023)                | 8.8 | PG        | 140 min | Animation, Action, Adventure | Votes: 250,642 | Top 250: #19                     |\n| 10. Inception (2010)                                         | 8.8 | PG-13     | 148 min | Action, Adventure, Sci-Fi    | Votes: 2,463,620 | Gross: $292.58M | Top 250: #14 |\n| 11. Fight Club (1999)                                        | 8.8 | R         | 139 min | Drama                        | Votes: 2,228,463 | Gross: $37.03M | Top 250: #12  |\n| 12. The Lord of the Rings: The Fellowship of the Ring (2001) | 8.8 | PG-13     | 178 min | Action, Adventure, Drama     | Votes: 1,941,934 | Gross: $315.54M | Top 250: #9  |\n| 13. Forrest Gump (1994)                                      | 8.8 | PG-13     | 142 min | Drama, Romance               | Votes: 2,174,133 | Gross: $330.25M | Top 250: #11 |\n| 14. The Good, the Bad and the Ugly (1966)                    | 8.8 | Approved  | 178 min | Adventure, Western           | Votes: 788,179 | Gross: $6.10M | Top 250: #10     |\n| 15. The Lord of the Rings: The Two Towers (2002)             | 8.8 | PG-13     | 179 min | Action, Adventure, Drama     | Votes: 1,726,936 | Gross: $342.55M | Top 250: #13 |\n| 16. Interstellar (2014)                                      | 8.7 | PG-13     | 169 min | Adventure, Drama, Sci-Fi     | Votes: 1,982,374 | Gross: $188.02M | Top 250: #24 |\n| 17. Goodfellas (1990)                                        | 8.7 | R         | 145 min | Biography, Crime, Drama      | Votes: 1,212,480 | Gross: $46.84M | Top 250: #17  |\n| 18. The Matrix (1999)                                        | 8.7 | R         | 136 min | Action, Sci-Fi               | Votes: 1,987,209 | Gross: $171.48M | Top 250: #16 |\n| 19. One Flew Over the Cuckoo's Nest (1975)                   | 8.7 | R         | 133 min | Drama                        | Votes: 1,042,059 | Gross: $112.00M | Top 250: #18 |\n| 20. Star Wars: Episode V - The Empire Strikes Back (1980)    | 8.7 | PG        | 124 min | Action, Adventure, Fantasy   | Votes: 1,339,851 | Gross: $290.48M | Top 250: #15 |\n| 21. Oppenheimer (2023)                                       | 8.6 | R         | 180 min | Biography, Drama, History    | Votes: 416,886 | Top 250: #39                     |\n| 22. Se7en (1995)                                             | 8.6 | R         | 127 min | Crime, Drama, Mystery        | Votes: 1,729,908 | Gross: $100.13M | Top 250: #20 |\n| 23. The Silence of the Lambs (1991)                          | 8.6 | R         | 118 min | Crime, Drama, Thriller       | Votes: 1,490,800 | Gross: $130.74M | Top 250: #23 |\n| 24. Star Wars: Episode IV - A New Hope (1977)                | 8.6 | PG        | 121 min | Action, Adventure, Fantasy   | Votes: 1,411,621 | Gross: $322.74M | Top 250: #29 |\n| 25. The Green Mile (1999)                                    | 8.6 | R         | 189 min | Crime, Drama, Fantasy        | Votes: 1,358,207 | Gross: $136.80M | Top 250: #28 |\n| 26. Terminator 2: Judgment Day (1991)                        | 8.6 | R         | 137 min | Action, Sci-Fi               | Votes: 1,139,976 | Gross: $204.84M | Top 250: #30 |\n| 27. Saving Private Ryan (1998)                               | 8.6 | R         | 169 min | Drama, War                   | Votes: 1,447,369 | Gross: $216.54M | Top 250: #25 |\n| 28. Spirited Away (2001)                                     | 8.6 | PG        | 125 min | Animation, Adventure, Family | Votes: 807,743 | Gross: $10.06M | Top 250: #32    |\n| 29. City of God (2002)                                       | 8.6 | R         | 130 min | Crime, Drama                 | Votes: 780,502 | Gross: $7.56M | Top 250: #26     |\n| 30. Life Is Beautiful (1997)                                 | 8.6 | PG-13     | 116 min | Comedy, Drama, Romance       | Votes: 721,291 | Gross: $57.60M | Top 250: #27    |\n| 31. Seven Samurai (1954)                                     | 8.6 | Not Rated | 207 min | Action, Drama                | Votes: 357,457 | Gross: $0.27M | Top 250: #22     |\n| 32. It's a Wonderful Life (1946)                             | 8.6 | PG        | 130 min | Drama, Family, Fantasy       | Votes: 478,286 | Top 250: #21                     |\n| 33. Harakiri (1962)                                          | 8.6 | Not Rated | 133 min | Action, Drama, Mystery       | Votes: 63,459 | Top 250: #47                      |\n| 34. Gladiator (2000)                                         | 8.5 | R         | 155 min | Action, Adventure, Drama     | Votes: 1,559,872 | Gross: $187.71M | Top 250: #36 |\n| 35. The Prestige (2006)                                      | 8.5 | PG-13     | 130 min | Drama, Mystery, Sci-Fi       | Votes: 1,393,788 | Gross: $53.09M | Top 250: #43  |\n| 36. Alien (1979)                                             | 8.5 | R         | 117 min | Horror, Sci-Fi               | Votes: 917,505 | Gross: $78.90M | Top 250: #53    |\n| 37. The Departed (2006)                                      | 8.5 | R         | 151 min | Crime, Drama, Thriller       | Votes: 1,377,550 | Gross: $132.38M | Top 250: #41 |\n| 38. Parasite (2019)                                          | 8.5 | R         | 132 min | Drama, Thriller              | Votes: 884,700 | Gross: $53.37M | Top 250: #35    |\n| 39. Django Unchained (2012)                                  | 8.5 | R         | 165 min | Drama, Western               | Votes: 1,631,546 | Gross: $162.81M | Top 250: #57 |\n| 40. Whiplash (2014)                                          | 8.5 | R         | 106 min | Drama, Music                 | Votes: 929,294 | Gross: $13.09M | Top 250: #42    |\n| 41. Léon: The Professional (1994)                            | 8.5 | R         | 110 min | Action, Crime, Drama         | Votes: 1,207,127 | Gross: $19.50M | Top 250: #38  |\n| 42. Back to the Future (1985)                                | 8.5 | PG        | 116 min | Adventure, Comedy, Sci-Fi    | Votes: 1,261,059 | Gross: $210.61M | Top 250: #31 |\n| 43. The Usual Suspects (1995)                                | 8.5 | R         | 106 min | Crime, Drama, Mystery        | Votes: 1,117,322 | Gross: $23.34M | Top 250: #44  |\n| 44. The Pianist (2002)                                       | 8.5 | R         | 150 min | Biography, Drama, Music      | Votes: 875,592 | Gross: $32.57M | Top 250: #33    |\n| 45. The Lion King (1994)                                     | 8.5 | G         | 88 min  | Animation, Adventure, Drama  | Votes: 1,103,588 | Gross: $422.78M | Top 250: #37 |\n| 46. American History X (1998)                                | 8.5 | R         | 119 min | Crime, Drama                 | Votes: 1,156,764 | Gross: $6.72M | Top 250: #40   |\n| 47. Casablanca (1942)                                        | 8.5 | PG        | 102 min | Drama, Romance, War          | Votes: 591,028 | Gross: $1.02M | Top 250: #46     |\n| 48. Psycho (1960)                                            | 8.5 | R         | 109 min | Horror, Mystery, Thriller    | Votes: 697,363 | Gross: $32.00M | Top 250: #34    |\n| 49. The Intouchables (2011)                                  | 8.5 | R         | 112 min | Biography, Comedy, Drama     | Votes: 896,244 | Gross: $13.18M | Top 250: #48    |\n| 50. Once Upon a Time in the West (1968)                      | 8.5 | PG-13     | 165 min | Western                      | Votes: 341,197 | Gross: $5.32M | Top 250: #51     |\n\n",
            "text/latex": "A data.frame: 50 × 6\n\\begin{tabular}{llllll}\n names & ratings & movie\\_rate & times & type & votes\\\\\n <chr> & <dbl> & <chr> & <chr> & <chr> & <chr>\\\\\n\\hline\n\t 1. The Shawshank Redemption (1994)                           & 9.3 & R         & 142 min & Drama                        & Votes: 2,794,416 \\textbar{} Gross: \\$28.34M \\textbar{} Top 250: \\#1  \\\\\n\t 2. The Godfather (1972)                                      & 9.2 & R         & 175 min & Crime, Drama                 & Votes: 1,946,579 \\textbar{} Gross: \\$134.97M \\textbar{} Top 250: \\#2 \\\\\n\t 3. The Dark Knight (2008)                                    & 9.0 & PG-13     & 152 min & Action, Crime, Drama         & Votes: 2,775,029 \\textbar{} Gross: \\$534.86M \\textbar{} Top 250: \\#3 \\\\\n\t 4. Schindler's List (1993)                                   & 9.0 & R         & 195 min & Biography, Drama, History    & Votes: 1,405,120 \\textbar{} Gross: \\$96.90M \\textbar{} Top 250: \\#6  \\\\\n\t 5. The Lord of the Rings: The Return of the King (2003)      & 9.0 & PG-13     & 201 min & Action, Adventure, Drama     & Votes: 1,913,750 \\textbar{} Gross: \\$377.85M \\textbar{} Top 250: \\#7 \\\\\n\t 6. 12 Angry Men (1957)                                       & 9.0 & Approved  & 96 min  & Crime, Drama                 & Votes: 830,263 \\textbar{} Gross: \\$4.36M \\textbar{} Top 250: \\#5     \\\\\n\t 7. The Godfather Part II (1974)                              & 9.0 & R         & 202 min & Crime, Drama                 & Votes: 1,322,285 \\textbar{} Gross: \\$57.30M \\textbar{} Top 250: \\#4  \\\\\n\t 8. Pulp Fiction (1994)                                       & 8.9 & R         & 154 min & Crime, Drama                 & Votes: 2,143,599 \\textbar{} Gross: \\$107.93M \\textbar{} Top 250: \\#8 \\\\\n\t 9. Spider-Man: Across the Spider-Verse (2023)                & 8.8 & PG        & 140 min & Animation, Action, Adventure & Votes: 250,642 \\textbar{} Top 250: \\#19                    \\\\\n\t 10. Inception (2010)                                         & 8.8 & PG-13     & 148 min & Action, Adventure, Sci-Fi    & Votes: 2,463,620 \\textbar{} Gross: \\$292.58M \\textbar{} Top 250: \\#14\\\\\n\t 11. Fight Club (1999)                                        & 8.8 & R         & 139 min & Drama                        & Votes: 2,228,463 \\textbar{} Gross: \\$37.03M \\textbar{} Top 250: \\#12 \\\\\n\t 12. The Lord of the Rings: The Fellowship of the Ring (2001) & 8.8 & PG-13     & 178 min & Action, Adventure, Drama     & Votes: 1,941,934 \\textbar{} Gross: \\$315.54M \\textbar{} Top 250: \\#9 \\\\\n\t 13. Forrest Gump (1994)                                      & 8.8 & PG-13     & 142 min & Drama, Romance               & Votes: 2,174,133 \\textbar{} Gross: \\$330.25M \\textbar{} Top 250: \\#11\\\\\n\t 14. The Good, the Bad and the Ugly (1966)                    & 8.8 & Approved  & 178 min & Adventure, Western           & Votes: 788,179 \\textbar{} Gross: \\$6.10M \\textbar{} Top 250: \\#10    \\\\\n\t 15. The Lord of the Rings: The Two Towers (2002)             & 8.8 & PG-13     & 179 min & Action, Adventure, Drama     & Votes: 1,726,936 \\textbar{} Gross: \\$342.55M \\textbar{} Top 250: \\#13\\\\\n\t 16. Interstellar (2014)                                      & 8.7 & PG-13     & 169 min & Adventure, Drama, Sci-Fi     & Votes: 1,982,374 \\textbar{} Gross: \\$188.02M \\textbar{} Top 250: \\#24\\\\\n\t 17. Goodfellas (1990)                                        & 8.7 & R         & 145 min & Biography, Crime, Drama      & Votes: 1,212,480 \\textbar{} Gross: \\$46.84M \\textbar{} Top 250: \\#17 \\\\\n\t 18. The Matrix (1999)                                        & 8.7 & R         & 136 min & Action, Sci-Fi               & Votes: 1,987,209 \\textbar{} Gross: \\$171.48M \\textbar{} Top 250: \\#16\\\\\n\t 19. One Flew Over the Cuckoo's Nest (1975)                   & 8.7 & R         & 133 min & Drama                        & Votes: 1,042,059 \\textbar{} Gross: \\$112.00M \\textbar{} Top 250: \\#18\\\\\n\t 20. Star Wars: Episode V - The Empire Strikes Back (1980)    & 8.7 & PG        & 124 min & Action, Adventure, Fantasy   & Votes: 1,339,851 \\textbar{} Gross: \\$290.48M \\textbar{} Top 250: \\#15\\\\\n\t 21. Oppenheimer (2023)                                       & 8.6 & R         & 180 min & Biography, Drama, History    & Votes: 416,886 \\textbar{} Top 250: \\#39                    \\\\\n\t 22. Se7en (1995)                                             & 8.6 & R         & 127 min & Crime, Drama, Mystery        & Votes: 1,729,908 \\textbar{} Gross: \\$100.13M \\textbar{} Top 250: \\#20\\\\\n\t 23. The Silence of the Lambs (1991)                          & 8.6 & R         & 118 min & Crime, Drama, Thriller       & Votes: 1,490,800 \\textbar{} Gross: \\$130.74M \\textbar{} Top 250: \\#23\\\\\n\t 24. Star Wars: Episode IV - A New Hope (1977)                & 8.6 & PG        & 121 min & Action, Adventure, Fantasy   & Votes: 1,411,621 \\textbar{} Gross: \\$322.74M \\textbar{} Top 250: \\#29\\\\\n\t 25. The Green Mile (1999)                                    & 8.6 & R         & 189 min & Crime, Drama, Fantasy        & Votes: 1,358,207 \\textbar{} Gross: \\$136.80M \\textbar{} Top 250: \\#28\\\\\n\t 26. Terminator 2: Judgment Day (1991)                        & 8.6 & R         & 137 min & Action, Sci-Fi               & Votes: 1,139,976 \\textbar{} Gross: \\$204.84M \\textbar{} Top 250: \\#30\\\\\n\t 27. Saving Private Ryan (1998)                               & 8.6 & R         & 169 min & Drama, War                   & Votes: 1,447,369 \\textbar{} Gross: \\$216.54M \\textbar{} Top 250: \\#25\\\\\n\t 28. Spirited Away (2001)                                     & 8.6 & PG        & 125 min & Animation, Adventure, Family & Votes: 807,743 \\textbar{} Gross: \\$10.06M \\textbar{} Top 250: \\#32   \\\\\n\t 29. City of God (2002)                                       & 8.6 & R         & 130 min & Crime, Drama                 & Votes: 780,502 \\textbar{} Gross: \\$7.56M \\textbar{} Top 250: \\#26    \\\\\n\t 30. Life Is Beautiful (1997)                                 & 8.6 & PG-13     & 116 min & Comedy, Drama, Romance       & Votes: 721,291 \\textbar{} Gross: \\$57.60M \\textbar{} Top 250: \\#27   \\\\\n\t 31. Seven Samurai (1954)                                     & 8.6 & Not Rated & 207 min & Action, Drama                & Votes: 357,457 \\textbar{} Gross: \\$0.27M \\textbar{} Top 250: \\#22    \\\\\n\t 32. It's a Wonderful Life (1946)                             & 8.6 & PG        & 130 min & Drama, Family, Fantasy       & Votes: 478,286 \\textbar{} Top 250: \\#21                    \\\\\n\t 33. Harakiri (1962)                                          & 8.6 & Not Rated & 133 min & Action, Drama, Mystery       & Votes: 63,459 \\textbar{} Top 250: \\#47                     \\\\\n\t 34. Gladiator (2000)                                         & 8.5 & R         & 155 min & Action, Adventure, Drama     & Votes: 1,559,872 \\textbar{} Gross: \\$187.71M \\textbar{} Top 250: \\#36\\\\\n\t 35. The Prestige (2006)                                      & 8.5 & PG-13     & 130 min & Drama, Mystery, Sci-Fi       & Votes: 1,393,788 \\textbar{} Gross: \\$53.09M \\textbar{} Top 250: \\#43 \\\\\n\t 36. Alien (1979)                                             & 8.5 & R         & 117 min & Horror, Sci-Fi               & Votes: 917,505 \\textbar{} Gross: \\$78.90M \\textbar{} Top 250: \\#53   \\\\\n\t 37. The Departed (2006)                                      & 8.5 & R         & 151 min & Crime, Drama, Thriller       & Votes: 1,377,550 \\textbar{} Gross: \\$132.38M \\textbar{} Top 250: \\#41\\\\\n\t 38. Parasite (2019)                                          & 8.5 & R         & 132 min & Drama, Thriller              & Votes: 884,700 \\textbar{} Gross: \\$53.37M \\textbar{} Top 250: \\#35   \\\\\n\t 39. Django Unchained (2012)                                  & 8.5 & R         & 165 min & Drama, Western               & Votes: 1,631,546 \\textbar{} Gross: \\$162.81M \\textbar{} Top 250: \\#57\\\\\n\t 40. Whiplash (2014)                                          & 8.5 & R         & 106 min & Drama, Music                 & Votes: 929,294 \\textbar{} Gross: \\$13.09M \\textbar{} Top 250: \\#42   \\\\\n\t 41. Léon: The Professional (1994)                            & 8.5 & R         & 110 min & Action, Crime, Drama         & Votes: 1,207,127 \\textbar{} Gross: \\$19.50M \\textbar{} Top 250: \\#38 \\\\\n\t 42. Back to the Future (1985)                                & 8.5 & PG        & 116 min & Adventure, Comedy, Sci-Fi    & Votes: 1,261,059 \\textbar{} Gross: \\$210.61M \\textbar{} Top 250: \\#31\\\\\n\t 43. The Usual Suspects (1995)                                & 8.5 & R         & 106 min & Crime, Drama, Mystery        & Votes: 1,117,322 \\textbar{} Gross: \\$23.34M \\textbar{} Top 250: \\#44 \\\\\n\t 44. The Pianist (2002)                                       & 8.5 & R         & 150 min & Biography, Drama, Music      & Votes: 875,592 \\textbar{} Gross: \\$32.57M \\textbar{} Top 250: \\#33   \\\\\n\t 45. The Lion King (1994)                                     & 8.5 & G         & 88 min  & Animation, Adventure, Drama  & Votes: 1,103,588 \\textbar{} Gross: \\$422.78M \\textbar{} Top 250: \\#37\\\\\n\t 46. American History X (1998)                                & 8.5 & R         & 119 min & Crime, Drama                 & Votes: 1,156,764 \\textbar{} Gross: \\$6.72M \\textbar{} Top 250: \\#40  \\\\\n\t 47. Casablanca (1942)                                        & 8.5 & PG        & 102 min & Drama, Romance, War          & Votes: 591,028 \\textbar{} Gross: \\$1.02M \\textbar{} Top 250: \\#46    \\\\\n\t 48. Psycho (1960)                                            & 8.5 & R         & 109 min & Horror, Mystery, Thriller    & Votes: 697,363 \\textbar{} Gross: \\$32.00M \\textbar{} Top 250: \\#34   \\\\\n\t 49. The Intouchables (2011)                                  & 8.5 & R         & 112 min & Biography, Comedy, Drama     & Votes: 896,244 \\textbar{} Gross: \\$13.18M \\textbar{} Top 250: \\#48   \\\\\n\t 50. Once Upon a Time in the West (1968)                      & 8.5 & PG-13     & 165 min & Western                      & Votes: 341,197 \\textbar{} Gross: \\$5.32M \\textbar{} Top 250: \\#51    \\\\\n\\end{tabular}\n",
            "text/plain": [
              "   names                                                        ratings\n",
              "1  1. The Shawshank Redemption (1994)                           9.3    \n",
              "2  2. The Godfather (1972)                                      9.2    \n",
              "3  3. The Dark Knight (2008)                                    9.0    \n",
              "4  4. Schindler's List (1993)                                   9.0    \n",
              "5  5. The Lord of the Rings: The Return of the King (2003)      9.0    \n",
              "6  6. 12 Angry Men (1957)                                       9.0    \n",
              "7  7. The Godfather Part II (1974)                              9.0    \n",
              "8  8. Pulp Fiction (1994)                                       8.9    \n",
              "9  9. Spider-Man: Across the Spider-Verse (2023)                8.8    \n",
              "10 10. Inception (2010)                                         8.8    \n",
              "11 11. Fight Club (1999)                                        8.8    \n",
              "12 12. The Lord of the Rings: The Fellowship of the Ring (2001) 8.8    \n",
              "13 13. Forrest Gump (1994)                                      8.8    \n",
              "14 14. The Good, the Bad and the Ugly (1966)                    8.8    \n",
              "15 15. The Lord of the Rings: The Two Towers (2002)             8.8    \n",
              "16 16. Interstellar (2014)                                      8.7    \n",
              "17 17. Goodfellas (1990)                                        8.7    \n",
              "18 18. The Matrix (1999)                                        8.7    \n",
              "19 19. One Flew Over the Cuckoo's Nest (1975)                   8.7    \n",
              "20 20. Star Wars: Episode V - The Empire Strikes Back (1980)    8.7    \n",
              "21 21. Oppenheimer (2023)                                       8.6    \n",
              "22 22. Se7en (1995)                                             8.6    \n",
              "23 23. The Silence of the Lambs (1991)                          8.6    \n",
              "24 24. Star Wars: Episode IV - A New Hope (1977)                8.6    \n",
              "25 25. The Green Mile (1999)                                    8.6    \n",
              "26 26. Terminator 2: Judgment Day (1991)                        8.6    \n",
              "27 27. Saving Private Ryan (1998)                               8.6    \n",
              "28 28. Spirited Away (2001)                                     8.6    \n",
              "29 29. City of God (2002)                                       8.6    \n",
              "30 30. Life Is Beautiful (1997)                                 8.6    \n",
              "31 31. Seven Samurai (1954)                                     8.6    \n",
              "32 32. It's a Wonderful Life (1946)                             8.6    \n",
              "33 33. Harakiri (1962)                                          8.6    \n",
              "34 34. Gladiator (2000)                                         8.5    \n",
              "35 35. The Prestige (2006)                                      8.5    \n",
              "36 36. Alien (1979)                                             8.5    \n",
              "37 37. The Departed (2006)                                      8.5    \n",
              "38 38. Parasite (2019)                                          8.5    \n",
              "39 39. Django Unchained (2012)                                  8.5    \n",
              "40 40. Whiplash (2014)                                          8.5    \n",
              "41 41. Léon: The Professional (1994)                            8.5    \n",
              "42 42. Back to the Future (1985)                                8.5    \n",
              "43 43. The Usual Suspects (1995)                                8.5    \n",
              "44 44. The Pianist (2002)                                       8.5    \n",
              "45 45. The Lion King (1994)                                     8.5    \n",
              "46 46. American History X (1998)                                8.5    \n",
              "47 47. Casablanca (1942)                                        8.5    \n",
              "48 48. Psycho (1960)                                            8.5    \n",
              "49 49. The Intouchables (2011)                                  8.5    \n",
              "50 50. Once Upon a Time in the West (1968)                      8.5    \n",
              "   movie_rate times   type                        \n",
              "1  R          142 min Drama                       \n",
              "2  R          175 min Crime, Drama                \n",
              "3  PG-13      152 min Action, Crime, Drama        \n",
              "4  R          195 min Biography, Drama, History   \n",
              "5  PG-13      201 min Action, Adventure, Drama    \n",
              "6  Approved   96 min  Crime, Drama                \n",
              "7  R          202 min Crime, Drama                \n",
              "8  R          154 min Crime, Drama                \n",
              "9  PG         140 min Animation, Action, Adventure\n",
              "10 PG-13      148 min Action, Adventure, Sci-Fi   \n",
              "11 R          139 min Drama                       \n",
              "12 PG-13      178 min Action, Adventure, Drama    \n",
              "13 PG-13      142 min Drama, Romance              \n",
              "14 Approved   178 min Adventure, Western          \n",
              "15 PG-13      179 min Action, Adventure, Drama    \n",
              "16 PG-13      169 min Adventure, Drama, Sci-Fi    \n",
              "17 R          145 min Biography, Crime, Drama     \n",
              "18 R          136 min Action, Sci-Fi              \n",
              "19 R          133 min Drama                       \n",
              "20 PG         124 min Action, Adventure, Fantasy  \n",
              "21 R          180 min Biography, Drama, History   \n",
              "22 R          127 min Crime, Drama, Mystery       \n",
              "23 R          118 min Crime, Drama, Thriller      \n",
              "24 PG         121 min Action, Adventure, Fantasy  \n",
              "25 R          189 min Crime, Drama, Fantasy       \n",
              "26 R          137 min Action, Sci-Fi              \n",
              "27 R          169 min Drama, War                  \n",
              "28 PG         125 min Animation, Adventure, Family\n",
              "29 R          130 min Crime, Drama                \n",
              "30 PG-13      116 min Comedy, Drama, Romance      \n",
              "31 Not Rated  207 min Action, Drama               \n",
              "32 PG         130 min Drama, Family, Fantasy      \n",
              "33 Not Rated  133 min Action, Drama, Mystery      \n",
              "34 R          155 min Action, Adventure, Drama    \n",
              "35 PG-13      130 min Drama, Mystery, Sci-Fi      \n",
              "36 R          117 min Horror, Sci-Fi              \n",
              "37 R          151 min Crime, Drama, Thriller      \n",
              "38 R          132 min Drama, Thriller             \n",
              "39 R          165 min Drama, Western              \n",
              "40 R          106 min Drama, Music                \n",
              "41 R          110 min Action, Crime, Drama        \n",
              "42 PG         116 min Adventure, Comedy, Sci-Fi   \n",
              "43 R          106 min Crime, Drama, Mystery       \n",
              "44 R          150 min Biography, Drama, Music     \n",
              "45 G          88 min  Animation, Adventure, Drama \n",
              "46 R          119 min Crime, Drama                \n",
              "47 PG         102 min Drama, Romance, War         \n",
              "48 R          109 min Horror, Mystery, Thriller   \n",
              "49 R          112 min Biography, Comedy, Drama    \n",
              "50 PG-13      165 min Western                     \n",
              "   votes                                            \n",
              "1  Votes: 2,794,416 | Gross: $28.34M | Top 250: #1  \n",
              "2  Votes: 1,946,579 | Gross: $134.97M | Top 250: #2 \n",
              "3  Votes: 2,775,029 | Gross: $534.86M | Top 250: #3 \n",
              "4  Votes: 1,405,120 | Gross: $96.90M | Top 250: #6  \n",
              "5  Votes: 1,913,750 | Gross: $377.85M | Top 250: #7 \n",
              "6  Votes: 830,263 | Gross: $4.36M | Top 250: #5     \n",
              "7  Votes: 1,322,285 | Gross: $57.30M | Top 250: #4  \n",
              "8  Votes: 2,143,599 | Gross: $107.93M | Top 250: #8 \n",
              "9  Votes: 250,642 | Top 250: #19                    \n",
              "10 Votes: 2,463,620 | Gross: $292.58M | Top 250: #14\n",
              "11 Votes: 2,228,463 | Gross: $37.03M | Top 250: #12 \n",
              "12 Votes: 1,941,934 | Gross: $315.54M | Top 250: #9 \n",
              "13 Votes: 2,174,133 | Gross: $330.25M | Top 250: #11\n",
              "14 Votes: 788,179 | Gross: $6.10M | Top 250: #10    \n",
              "15 Votes: 1,726,936 | Gross: $342.55M | Top 250: #13\n",
              "16 Votes: 1,982,374 | Gross: $188.02M | Top 250: #24\n",
              "17 Votes: 1,212,480 | Gross: $46.84M | Top 250: #17 \n",
              "18 Votes: 1,987,209 | Gross: $171.48M | Top 250: #16\n",
              "19 Votes: 1,042,059 | Gross: $112.00M | Top 250: #18\n",
              "20 Votes: 1,339,851 | Gross: $290.48M | Top 250: #15\n",
              "21 Votes: 416,886 | Top 250: #39                    \n",
              "22 Votes: 1,729,908 | Gross: $100.13M | Top 250: #20\n",
              "23 Votes: 1,490,800 | Gross: $130.74M | Top 250: #23\n",
              "24 Votes: 1,411,621 | Gross: $322.74M | Top 250: #29\n",
              "25 Votes: 1,358,207 | Gross: $136.80M | Top 250: #28\n",
              "26 Votes: 1,139,976 | Gross: $204.84M | Top 250: #30\n",
              "27 Votes: 1,447,369 | Gross: $216.54M | Top 250: #25\n",
              "28 Votes: 807,743 | Gross: $10.06M | Top 250: #32   \n",
              "29 Votes: 780,502 | Gross: $7.56M | Top 250: #26    \n",
              "30 Votes: 721,291 | Gross: $57.60M | Top 250: #27   \n",
              "31 Votes: 357,457 | Gross: $0.27M | Top 250: #22    \n",
              "32 Votes: 478,286 | Top 250: #21                    \n",
              "33 Votes: 63,459 | Top 250: #47                     \n",
              "34 Votes: 1,559,872 | Gross: $187.71M | Top 250: #36\n",
              "35 Votes: 1,393,788 | Gross: $53.09M | Top 250: #43 \n",
              "36 Votes: 917,505 | Gross: $78.90M | Top 250: #53   \n",
              "37 Votes: 1,377,550 | Gross: $132.38M | Top 250: #41\n",
              "38 Votes: 884,700 | Gross: $53.37M | Top 250: #35   \n",
              "39 Votes: 1,631,546 | Gross: $162.81M | Top 250: #57\n",
              "40 Votes: 929,294 | Gross: $13.09M | Top 250: #42   \n",
              "41 Votes: 1,207,127 | Gross: $19.50M | Top 250: #38 \n",
              "42 Votes: 1,261,059 | Gross: $210.61M | Top 250: #31\n",
              "43 Votes: 1,117,322 | Gross: $23.34M | Top 250: #44 \n",
              "44 Votes: 875,592 | Gross: $32.57M | Top 250: #33   \n",
              "45 Votes: 1,103,588 | Gross: $422.78M | Top 250: #37\n",
              "46 Votes: 1,156,764 | Gross: $6.72M | Top 250: #40  \n",
              "47 Votes: 591,028 | Gross: $1.02M | Top 250: #46    \n",
              "48 Votes: 697,363 | Gross: $32.00M | Top 250: #34   \n",
              "49 Votes: 896,244 | Gross: $13.18M | Top 250: #48   \n",
              "50 Votes: 341,197 | Gross: $5.32M | Top 250: #51    "
            ]
          },
          "metadata": {}
        }
      ]
    },
    {
      "cell_type": "markdown",
      "source": [
        "# **Clean Data**"
      ],
      "metadata": {
        "id": "rphh90U62U3L"
      }
    },
    {
      "cell_type": "code",
      "source": [
        "df <- df_imdb %>%\n",
        "  separate(col = votes, into = c(\"votes\",\"gross\",\"top\"), sep = \" \\\\| \")"
      ],
      "metadata": {
        "colab": {
          "base_uri": "https://localhost:8080/"
        },
        "id": "kAZqXTkELTLo",
        "outputId": "c95a801d-dad8-4bb1-c2a8-d75fc28fc6bf"
      },
      "execution_count": null,
      "outputs": [
        {
          "output_type": "stream",
          "name": "stderr",
          "text": [
            "Warning message:\n",
            "“\u001b[1m\u001b[22mExpected 3 pieces. Missing pieces filled with `NA` in 4 rows [9, 21, 32, 33].”\n"
          ]
        }
      ]
    },
    {
      "cell_type": "code",
      "source": [
        "df$top[c(30,31,48)] <- c(\"Top 250: #20\", \"Top 250: #45\", \"Top 250: #44\")\n",
        "df$gross[c(30,31,48)] <- c(NA,NA,NA)"
      ],
      "metadata": {
        "id": "LbcRAmaJTbYU"
      },
      "execution_count": null,
      "outputs": []
    },
    {
      "cell_type": "code",
      "source": [
        "df <- df %>%\n",
        "  separate(col = votes, into = c(\"o_votes\",\"n_votes\"), sep = \"\\\\: \")"
      ],
      "metadata": {
        "id": "NNhp4GceUHm3"
      },
      "execution_count": null,
      "outputs": []
    },
    {
      "cell_type": "code",
      "source": [
        "df <- df %>%\n",
        "  separate(gross, into = c(\"o_gross\",\"n_gross\"), sep = \"\\\\: \")"
      ],
      "metadata": {
        "id": "P7su9RsJ8Iqm"
      },
      "execution_count": null,
      "outputs": []
    },
    {
      "cell_type": "code",
      "source": [
        "df <- df %>%\n",
        "  separate(names, into = c(\"id\",\"n_names\"), sep = \"\\\\. +\")"
      ],
      "metadata": {
        "id": "794wXdgsbS_o"
      },
      "execution_count": null,
      "outputs": []
    },
    {
      "cell_type": "code",
      "source": [
        "df$id <- as.numeric(df$id)"
      ],
      "metadata": {
        "id": "tgRVuIIXP8pJ"
      },
      "execution_count": null,
      "outputs": []
    },
    {
      "cell_type": "code",
      "source": [
        "df$times <- df$times %>%\n",
        "  str_replace_all(.,\" min\",\"\") %>%\n",
        "  as.numeric"
      ],
      "metadata": {
        "id": "wMTX0nzterFy"
      },
      "execution_count": null,
      "outputs": []
    },
    {
      "cell_type": "code",
      "source": [
        "df$n_votes <- df$n_votes %>%\n",
        "  str_replace_all(.,\",\",\"\") %>%\n",
        "  as.numeric"
      ],
      "metadata": {
        "id": "xHY5rAKMY_1E"
      },
      "execution_count": null,
      "outputs": []
    },
    {
      "cell_type": "code",
      "source": [
        "df$top <- df$top %>%\n",
        "  str_replace_all(.,\"Top 250: #\",\"\") %>%\n",
        "  as.numeric"
      ],
      "metadata": {
        "id": "1Awy5ZqKfywJ"
      },
      "execution_count": null,
      "outputs": []
    },
    {
      "cell_type": "code",
      "source": [
        "sub <- substring(df$n_gross, 2)\n",
        "glimpse(sub)"
      ],
      "metadata": {
        "colab": {
          "base_uri": "https://localhost:8080/"
        },
        "id": "TDqX6oRtCHea",
        "outputId": "325b01a9-d91e-42ca-bd9d-c411006ec5bc"
      },
      "execution_count": null,
      "outputs": [
        {
          "output_type": "stream",
          "name": "stdout",
          "text": [
            " chr [1:50] \"28.34M\" \"134.97M\" \"534.86M\" \"96.90M\" \"377.85M\" \"4.36M\" ...\n"
          ]
        }
      ]
    },
    {
      "cell_type": "code",
      "source": [
        "sub <- sub %>%\n",
        "  str_replace_all(.,\"M\",\"\") %>%\n",
        "  as.numeric\n",
        "View(sub)"
      ],
      "metadata": {
        "colab": {
          "base_uri": "https://localhost:8080/",
          "height": 69
        },
        "id": "cA9JDR-Jbn_w",
        "outputId": "f97a4243-bc34-4771-ff7a-41497caaca41"
      },
      "execution_count": null,
      "outputs": [
        {
          "output_type": "display_data",
          "data": {
            "text/plain": [
              " [1]  28.34 134.97 534.86  96.90 377.85   4.36  57.30 107.93  19.00 292.58\n",
              "[11]  37.03 315.54 330.25   6.10 342.55 188.02  46.84 171.48 112.00 290.48\n",
              "[21]  39.00 100.13 130.74 322.74 136.80 204.84 216.54  10.06   7.56     NA\n",
              "[31]     NA  21.00  47.00 187.71  53.09  78.90 132.38  53.37 162.81  13.09\n",
              "[41]  19.50 210.61  23.34  32.57 422.78   6.72   1.02     NA  13.18   5.32"
            ],
            "text/html": [
              "<style>\n",
              ".list-inline {list-style: none; margin:0; padding: 0}\n",
              ".list-inline>li {display: inline-block}\n",
              ".list-inline>li:not(:last-child)::after {content: \"\\00b7\"; padding: 0 .5ex}\n",
              "</style>\n",
              "<ol class=list-inline><li>28.34</li><li>134.97</li><li>534.86</li><li>96.9</li><li>377.85</li><li>4.36</li><li>57.3</li><li>107.93</li><li>19</li><li>292.58</li><li>37.03</li><li>315.54</li><li>330.25</li><li>6.1</li><li>342.55</li><li>188.02</li><li>46.84</li><li>171.48</li><li>112</li><li>290.48</li><li>39</li><li>100.13</li><li>130.74</li><li>322.74</li><li>136.8</li><li>204.84</li><li>216.54</li><li>10.06</li><li>7.56</li><li>&lt;NA&gt;</li><li>&lt;NA&gt;</li><li>21</li><li>47</li><li>187.71</li><li>53.09</li><li>78.9</li><li>132.38</li><li>53.37</li><li>162.81</li><li>13.09</li><li>19.5</li><li>210.61</li><li>23.34</li><li>32.57</li><li>422.78</li><li>6.72</li><li>1.02</li><li>&lt;NA&gt;</li><li>13.18</li><li>5.32</li></ol>\n"
            ],
            "text/markdown": "1. 28.34\n2. 134.97\n3. 534.86\n4. 96.9\n5. 377.85\n6. 4.36\n7. 57.3\n8. 107.93\n9. 19\n10. 292.58\n11. 37.03\n12. 315.54\n13. 330.25\n14. 6.1\n15. 342.55\n16. 188.02\n17. 46.84\n18. 171.48\n19. 112\n20. 290.48\n21. 39\n22. 100.13\n23. 130.74\n24. 322.74\n25. 136.8\n26. 204.84\n27. 216.54\n28. 10.06\n29. 7.56\n30. &lt;NA&gt;\n31. &lt;NA&gt;\n32. 21\n33. 47\n34. 187.71\n35. 53.09\n36. 78.9\n37. 132.38\n38. 53.37\n39. 162.81\n40. 13.09\n41. 19.5\n42. 210.61\n43. 23.34\n44. 32.57\n45. 422.78\n46. 6.72\n47. 1.02\n48. &lt;NA&gt;\n49. 13.18\n50. 5.32\n\n\n",
            "text/latex": "\\begin{enumerate*}\n\\item 28.34\n\\item 134.97\n\\item 534.86\n\\item 96.9\n\\item 377.85\n\\item 4.36\n\\item 57.3\n\\item 107.93\n\\item 19\n\\item 292.58\n\\item 37.03\n\\item 315.54\n\\item 330.25\n\\item 6.1\n\\item 342.55\n\\item 188.02\n\\item 46.84\n\\item 171.48\n\\item 112\n\\item 290.48\n\\item 39\n\\item 100.13\n\\item 130.74\n\\item 322.74\n\\item 136.8\n\\item 204.84\n\\item 216.54\n\\item 10.06\n\\item 7.56\n\\item <NA>\n\\item <NA>\n\\item 21\n\\item 47\n\\item 187.71\n\\item 53.09\n\\item 78.9\n\\item 132.38\n\\item 53.37\n\\item 162.81\n\\item 13.09\n\\item 19.5\n\\item 210.61\n\\item 23.34\n\\item 32.57\n\\item 422.78\n\\item 6.72\n\\item 1.02\n\\item <NA>\n\\item 13.18\n\\item 5.32\n\\end{enumerate*}\n"
          },
          "metadata": {}
        }
      ]
    },
    {
      "cell_type": "code",
      "source": [
        "id = 1 : 50\n",
        "View(id)"
      ],
      "metadata": {
        "colab": {
          "base_uri": "https://localhost:8080/",
          "height": 52
        },
        "id": "DPplxs1EJwr-",
        "outputId": "b0271e8b-194e-4ad4-9664-c0479f9d0d5c"
      },
      "execution_count": null,
      "outputs": [
        {
          "output_type": "display_data",
          "data": {
            "text/plain": [
              " [1]  1  2  3  4  5  6  7  8  9 10 11 12 13 14 15 16 17 18 19 20 21 22 23 24 25\n",
              "[26] 26 27 28 29 30 31 32 33 34 35 36 37 38 39 40 41 42 43 44 45 46 47 48 49 50"
            ],
            "text/html": [
              "<style>\n",
              ".list-inline {list-style: none; margin:0; padding: 0}\n",
              ".list-inline>li {display: inline-block}\n",
              ".list-inline>li:not(:last-child)::after {content: \"\\00b7\"; padding: 0 .5ex}\n",
              "</style>\n",
              "<ol class=list-inline><li>1</li><li>2</li><li>3</li><li>4</li><li>5</li><li>6</li><li>7</li><li>8</li><li>9</li><li>10</li><li>11</li><li>12</li><li>13</li><li>14</li><li>15</li><li>16</li><li>17</li><li>18</li><li>19</li><li>20</li><li>21</li><li>22</li><li>23</li><li>24</li><li>25</li><li>26</li><li>27</li><li>28</li><li>29</li><li>30</li><li>31</li><li>32</li><li>33</li><li>34</li><li>35</li><li>36</li><li>37</li><li>38</li><li>39</li><li>40</li><li>41</li><li>42</li><li>43</li><li>44</li><li>45</li><li>46</li><li>47</li><li>48</li><li>49</li><li>50</li></ol>\n"
            ],
            "text/markdown": "1. 1\n2. 2\n3. 3\n4. 4\n5. 5\n6. 6\n7. 7\n8. 8\n9. 9\n10. 10\n11. 11\n12. 12\n13. 13\n14. 14\n15. 15\n16. 16\n17. 17\n18. 18\n19. 19\n20. 20\n21. 21\n22. 22\n23. 23\n24. 24\n25. 25\n26. 26\n27. 27\n28. 28\n29. 29\n30. 30\n31. 31\n32. 32\n33. 33\n34. 34\n35. 35\n36. 36\n37. 37\n38. 38\n39. 39\n40. 40\n41. 41\n42. 42\n43. 43\n44. 44\n45. 45\n46. 46\n47. 47\n48. 48\n49. 49\n50. 50\n\n\n",
            "text/latex": "\\begin{enumerate*}\n\\item 1\n\\item 2\n\\item 3\n\\item 4\n\\item 5\n\\item 6\n\\item 7\n\\item 8\n\\item 9\n\\item 10\n\\item 11\n\\item 12\n\\item 13\n\\item 14\n\\item 15\n\\item 16\n\\item 17\n\\item 18\n\\item 19\n\\item 20\n\\item 21\n\\item 22\n\\item 23\n\\item 24\n\\item 25\n\\item 26\n\\item 27\n\\item 28\n\\item 29\n\\item 30\n\\item 31\n\\item 32\n\\item 33\n\\item 34\n\\item 35\n\\item 36\n\\item 37\n\\item 38\n\\item 39\n\\item 40\n\\item 41\n\\item 42\n\\item 43\n\\item 44\n\\item 45\n\\item 46\n\\item 47\n\\item 48\n\\item 49\n\\item 50\n\\end{enumerate*}\n"
          },
          "metadata": {}
        }
      ]
    },
    {
      "cell_type": "code",
      "source": [
        "sub2 <- data.frame(id, sub)\n",
        "View(sub2)"
      ],
      "metadata": {
        "colab": {
          "base_uri": "https://localhost:8080/",
          "height": 1000
        },
        "id": "jck88IUnJ7LE",
        "outputId": "8a995bcf-423e-40f4-8a93-e45a34d0a245"
      },
      "execution_count": null,
      "outputs": [
        {
          "output_type": "display_data",
          "data": {
            "text/plain": [
              "   id sub   \n",
              "1   1  28.34\n",
              "2   2 134.97\n",
              "3   3 534.86\n",
              "4   4  96.90\n",
              "5   5 377.85\n",
              "6   6   4.36\n",
              "7   7  57.30\n",
              "8   8 107.93\n",
              "9   9  19.00\n",
              "10 10 292.58\n",
              "11 11  37.03\n",
              "12 12 315.54\n",
              "13 13 330.25\n",
              "14 14   6.10\n",
              "15 15 342.55\n",
              "16 16 188.02\n",
              "17 17  46.84\n",
              "18 18 171.48\n",
              "19 19 112.00\n",
              "20 20 290.48\n",
              "21 21  39.00\n",
              "22 22 100.13\n",
              "23 23 130.74\n",
              "24 24 322.74\n",
              "25 25 136.80\n",
              "26 26 204.84\n",
              "27 27 216.54\n",
              "28 28  10.06\n",
              "29 29   7.56\n",
              "30 30     NA\n",
              "31 31     NA\n",
              "32 32  21.00\n",
              "33 33  47.00\n",
              "34 34 187.71\n",
              "35 35  53.09\n",
              "36 36  78.90\n",
              "37 37 132.38\n",
              "38 38  53.37\n",
              "39 39 162.81\n",
              "40 40  13.09\n",
              "41 41  19.50\n",
              "42 42 210.61\n",
              "43 43  23.34\n",
              "44 44  32.57\n",
              "45 45 422.78\n",
              "46 46   6.72\n",
              "47 47   1.02\n",
              "48 48     NA\n",
              "49 49  13.18\n",
              "50 50   5.32"
            ],
            "text/html": [
              "<table class=\"dataframe\">\n",
              "<caption>A data.frame: 50 × 2</caption>\n",
              "<thead>\n",
              "\t<tr><th scope=col>id</th><th scope=col>sub</th></tr>\n",
              "\t<tr><th scope=col>&lt;int&gt;</th><th scope=col>&lt;dbl&gt;</th></tr>\n",
              "</thead>\n",
              "<tbody>\n",
              "\t<tr><td> 1</td><td> 28.34</td></tr>\n",
              "\t<tr><td> 2</td><td>134.97</td></tr>\n",
              "\t<tr><td> 3</td><td>534.86</td></tr>\n",
              "\t<tr><td> 4</td><td> 96.90</td></tr>\n",
              "\t<tr><td> 5</td><td>377.85</td></tr>\n",
              "\t<tr><td> 6</td><td>  4.36</td></tr>\n",
              "\t<tr><td> 7</td><td> 57.30</td></tr>\n",
              "\t<tr><td> 8</td><td>107.93</td></tr>\n",
              "\t<tr><td> 9</td><td> 19.00</td></tr>\n",
              "\t<tr><td>10</td><td>292.58</td></tr>\n",
              "\t<tr><td>11</td><td> 37.03</td></tr>\n",
              "\t<tr><td>12</td><td>315.54</td></tr>\n",
              "\t<tr><td>13</td><td>330.25</td></tr>\n",
              "\t<tr><td>14</td><td>  6.10</td></tr>\n",
              "\t<tr><td>15</td><td>342.55</td></tr>\n",
              "\t<tr><td>16</td><td>188.02</td></tr>\n",
              "\t<tr><td>17</td><td> 46.84</td></tr>\n",
              "\t<tr><td>18</td><td>171.48</td></tr>\n",
              "\t<tr><td>19</td><td>112.00</td></tr>\n",
              "\t<tr><td>20</td><td>290.48</td></tr>\n",
              "\t<tr><td>21</td><td> 39.00</td></tr>\n",
              "\t<tr><td>22</td><td>100.13</td></tr>\n",
              "\t<tr><td>23</td><td>130.74</td></tr>\n",
              "\t<tr><td>24</td><td>322.74</td></tr>\n",
              "\t<tr><td>25</td><td>136.80</td></tr>\n",
              "\t<tr><td>26</td><td>204.84</td></tr>\n",
              "\t<tr><td>27</td><td>216.54</td></tr>\n",
              "\t<tr><td>28</td><td> 10.06</td></tr>\n",
              "\t<tr><td>29</td><td>  7.56</td></tr>\n",
              "\t<tr><td>30</td><td>    NA</td></tr>\n",
              "\t<tr><td>31</td><td>    NA</td></tr>\n",
              "\t<tr><td>32</td><td> 21.00</td></tr>\n",
              "\t<tr><td>33</td><td> 47.00</td></tr>\n",
              "\t<tr><td>34</td><td>187.71</td></tr>\n",
              "\t<tr><td>35</td><td> 53.09</td></tr>\n",
              "\t<tr><td>36</td><td> 78.90</td></tr>\n",
              "\t<tr><td>37</td><td>132.38</td></tr>\n",
              "\t<tr><td>38</td><td> 53.37</td></tr>\n",
              "\t<tr><td>39</td><td>162.81</td></tr>\n",
              "\t<tr><td>40</td><td> 13.09</td></tr>\n",
              "\t<tr><td>41</td><td> 19.50</td></tr>\n",
              "\t<tr><td>42</td><td>210.61</td></tr>\n",
              "\t<tr><td>43</td><td> 23.34</td></tr>\n",
              "\t<tr><td>44</td><td> 32.57</td></tr>\n",
              "\t<tr><td>45</td><td>422.78</td></tr>\n",
              "\t<tr><td>46</td><td>  6.72</td></tr>\n",
              "\t<tr><td>47</td><td>  1.02</td></tr>\n",
              "\t<tr><td>48</td><td>    NA</td></tr>\n",
              "\t<tr><td>49</td><td> 13.18</td></tr>\n",
              "\t<tr><td>50</td><td>  5.32</td></tr>\n",
              "</tbody>\n",
              "</table>\n"
            ],
            "text/markdown": "\nA data.frame: 50 × 2\n\n| id &lt;int&gt; | sub &lt;dbl&gt; |\n|---|---|\n|  1 |  28.34 |\n|  2 | 134.97 |\n|  3 | 534.86 |\n|  4 |  96.90 |\n|  5 | 377.85 |\n|  6 |   4.36 |\n|  7 |  57.30 |\n|  8 | 107.93 |\n|  9 |  19.00 |\n| 10 | 292.58 |\n| 11 |  37.03 |\n| 12 | 315.54 |\n| 13 | 330.25 |\n| 14 |   6.10 |\n| 15 | 342.55 |\n| 16 | 188.02 |\n| 17 |  46.84 |\n| 18 | 171.48 |\n| 19 | 112.00 |\n| 20 | 290.48 |\n| 21 |  39.00 |\n| 22 | 100.13 |\n| 23 | 130.74 |\n| 24 | 322.74 |\n| 25 | 136.80 |\n| 26 | 204.84 |\n| 27 | 216.54 |\n| 28 |  10.06 |\n| 29 |   7.56 |\n| 30 |     NA |\n| 31 |     NA |\n| 32 |  21.00 |\n| 33 |  47.00 |\n| 34 | 187.71 |\n| 35 |  53.09 |\n| 36 |  78.90 |\n| 37 | 132.38 |\n| 38 |  53.37 |\n| 39 | 162.81 |\n| 40 |  13.09 |\n| 41 |  19.50 |\n| 42 | 210.61 |\n| 43 |  23.34 |\n| 44 |  32.57 |\n| 45 | 422.78 |\n| 46 |   6.72 |\n| 47 |   1.02 |\n| 48 |     NA |\n| 49 |  13.18 |\n| 50 |   5.32 |\n\n",
            "text/latex": "A data.frame: 50 × 2\n\\begin{tabular}{ll}\n id & sub\\\\\n <int> & <dbl>\\\\\n\\hline\n\t  1 &  28.34\\\\\n\t  2 & 134.97\\\\\n\t  3 & 534.86\\\\\n\t  4 &  96.90\\\\\n\t  5 & 377.85\\\\\n\t  6 &   4.36\\\\\n\t  7 &  57.30\\\\\n\t  8 & 107.93\\\\\n\t  9 &  19.00\\\\\n\t 10 & 292.58\\\\\n\t 11 &  37.03\\\\\n\t 12 & 315.54\\\\\n\t 13 & 330.25\\\\\n\t 14 &   6.10\\\\\n\t 15 & 342.55\\\\\n\t 16 & 188.02\\\\\n\t 17 &  46.84\\\\\n\t 18 & 171.48\\\\\n\t 19 & 112.00\\\\\n\t 20 & 290.48\\\\\n\t 21 &  39.00\\\\\n\t 22 & 100.13\\\\\n\t 23 & 130.74\\\\\n\t 24 & 322.74\\\\\n\t 25 & 136.80\\\\\n\t 26 & 204.84\\\\\n\t 27 & 216.54\\\\\n\t 28 &  10.06\\\\\n\t 29 &   7.56\\\\\n\t 30 &     NA\\\\\n\t 31 &     NA\\\\\n\t 32 &  21.00\\\\\n\t 33 &  47.00\\\\\n\t 34 & 187.71\\\\\n\t 35 &  53.09\\\\\n\t 36 &  78.90\\\\\n\t 37 & 132.38\\\\\n\t 38 &  53.37\\\\\n\t 39 & 162.81\\\\\n\t 40 &  13.09\\\\\n\t 41 &  19.50\\\\\n\t 42 & 210.61\\\\\n\t 43 &  23.34\\\\\n\t 44 &  32.57\\\\\n\t 45 & 422.78\\\\\n\t 46 &   6.72\\\\\n\t 47 &   1.02\\\\\n\t 48 &     NA\\\\\n\t 49 &  13.18\\\\\n\t 50 &   5.32\\\\\n\\end{tabular}\n"
          },
          "metadata": {}
        }
      ]
    },
    {
      "cell_type": "code",
      "source": [
        "new_df <- df %>%\n",
        "  left_join(sub2, by = \"id\")\n",
        "View(new_df)"
      ],
      "metadata": {
        "id": "ClJPwQaTCsCW",
        "colab": {
          "base_uri": "https://localhost:8080/",
          "height": 1000
        },
        "outputId": "d66ccb74-28bd-45ff-a374-3deb60c4c303"
      },
      "execution_count": null,
      "outputs": [
        {
          "output_type": "display_data",
          "data": {
            "text/plain": [
              "   id n_names                                                  ratings\n",
              "1   1 The Shawshank Redemption (1994)                          9.3    \n",
              "2   2 The Godfather (1972)                                     9.2    \n",
              "3   3 The Dark Knight (2008)                                   9.0    \n",
              "4   4 Schindler's List (1993)                                  9.0    \n",
              "5   5 The Lord of the Rings: The Return of the King (2003)     9.0    \n",
              "6   6 12 Angry Men (1957)                                      9.0    \n",
              "7   7 The Godfather Part II (1974)                             9.0    \n",
              "8   8 Pulp Fiction (1994)                                      8.9    \n",
              "9   9 Spider-Man: Across the Spider-Verse (2023)               8.8    \n",
              "10 10 Inception (2010)                                         8.8    \n",
              "11 11 Fight Club (1999)                                        8.8    \n",
              "12 12 The Lord of the Rings: The Fellowship of the Ring (2001) 8.8    \n",
              "13 13 Forrest Gump (1994)                                      8.8    \n",
              "14 14 The Good, the Bad and the Ugly (1966)                    8.8    \n",
              "15 15 The Lord of the Rings: The Two Towers (2002)             8.8    \n",
              "16 16 Interstellar (2014)                                      8.7    \n",
              "17 17 Goodfellas (1990)                                        8.7    \n",
              "18 18 The Matrix (1999)                                        8.7    \n",
              "19 19 One Flew Over the Cuckoo's Nest (1975)                   8.7    \n",
              "20 20 Star Wars: Episode V - The Empire Strikes Back (1980)    8.7    \n",
              "21 21 Oppenheimer (2023)                                       8.6    \n",
              "22 22 Se7en (1995)                                             8.6    \n",
              "23 23 The Silence of the Lambs (1991)                          8.6    \n",
              "24 24 Star Wars: Episode IV - A New Hope (1977)                8.6    \n",
              "25 25 The Green Mile (1999)                                    8.6    \n",
              "26 26 Terminator 2: Judgment Day (1991)                        8.6    \n",
              "27 27 Saving Private Ryan (1998)                               8.6    \n",
              "28 28 Spirited Away (2001)                                     8.6    \n",
              "29 29 City of God (2002)                                       8.6    \n",
              "30 30 Life Is Beautiful (1997)                                 8.6    \n",
              "31 31 Seven Samurai (1954)                                     8.6    \n",
              "32 32 It's a Wonderful Life (1946)                             8.6    \n",
              "33 33 Harakiri (1962)                                          8.6    \n",
              "34 34 Gladiator (2000)                                         8.5    \n",
              "35 35 The Prestige (2006)                                      8.5    \n",
              "36 36 Alien (1979)                                             8.5    \n",
              "37 37 The Departed (2006)                                      8.5    \n",
              "38 38 Parasite (2019)                                          8.5    \n",
              "39 39 Django Unchained (2012)                                  8.5    \n",
              "40 40 Whiplash (2014)                                          8.5    \n",
              "41 41 Léon: The Professional (1994)                            8.5    \n",
              "42 42 Back to the Future (1985)                                8.5    \n",
              "43 43 The Usual Suspects (1995)                                8.5    \n",
              "44 44 The Pianist (2002)                                       8.5    \n",
              "45 45 The Lion King (1994)                                     8.5    \n",
              "46 46 American History X (1998)                                8.5    \n",
              "47 47 Casablanca (1942)                                        8.5    \n",
              "48 48 Psycho (1960)                                            8.5    \n",
              "49 49 The Intouchables (2011)                                  8.5    \n",
              "50 50 Once Upon a Time in the West (1968)                      8.5    \n",
              "   movie_rate times type                         o_votes n_votes o_gross\n",
              "1  R          142   Drama                        Votes   2794416 Gross  \n",
              "2  R          175   Crime, Drama                 Votes   1946579 Gross  \n",
              "3  PG-13      152   Action, Crime, Drama         Votes   2775029 Gross  \n",
              "4  R          195   Biography, Drama, History    Votes   1405120 Gross  \n",
              "5  PG-13      201   Action, Adventure, Drama     Votes   1913750 Gross  \n",
              "6  Approved    96   Crime, Drama                 Votes    830263 Gross  \n",
              "7  R          202   Crime, Drama                 Votes   1322285 Gross  \n",
              "8  R          154   Crime, Drama                 Votes   2143599 Gross  \n",
              "9  PG         140   Animation, Action, Adventure Votes    250642 Top 250\n",
              "10 PG-13      148   Action, Adventure, Sci-Fi    Votes   2463620 Gross  \n",
              "11 R          139   Drama                        Votes   2228463 Gross  \n",
              "12 PG-13      178   Action, Adventure, Drama     Votes   1941934 Gross  \n",
              "13 PG-13      142   Drama, Romance               Votes   2174133 Gross  \n",
              "14 Approved   178   Adventure, Western           Votes    788179 Gross  \n",
              "15 PG-13      179   Action, Adventure, Drama     Votes   1726936 Gross  \n",
              "16 PG-13      169   Adventure, Drama, Sci-Fi     Votes   1982374 Gross  \n",
              "17 R          145   Biography, Crime, Drama      Votes   1212480 Gross  \n",
              "18 R          136   Action, Sci-Fi               Votes   1987209 Gross  \n",
              "19 R          133   Drama                        Votes   1042059 Gross  \n",
              "20 PG         124   Action, Adventure, Fantasy   Votes   1339851 Gross  \n",
              "21 R          180   Biography, Drama, History    Votes    416886 Top 250\n",
              "22 R          127   Crime, Drama, Mystery        Votes   1729908 Gross  \n",
              "23 R          118   Crime, Drama, Thriller       Votes   1490800 Gross  \n",
              "24 PG         121   Action, Adventure, Fantasy   Votes   1411621 Gross  \n",
              "25 R          189   Crime, Drama, Fantasy        Votes   1358207 Gross  \n",
              "26 R          137   Action, Sci-Fi               Votes   1139976 Gross  \n",
              "27 R          169   Drama, War                   Votes   1447369 Gross  \n",
              "28 PG         125   Animation, Adventure, Family Votes    807743 Gross  \n",
              "29 R          130   Crime, Drama                 Votes    780502 Gross  \n",
              "30 PG-13      116   Comedy, Drama, Romance       Votes    721291 NA     \n",
              "31 Not Rated  207   Action, Drama                Votes    357457 NA     \n",
              "32 PG         130   Drama, Family, Fantasy       Votes    478286 Top 250\n",
              "33 Not Rated  133   Action, Drama, Mystery       Votes     63459 Top 250\n",
              "34 R          155   Action, Adventure, Drama     Votes   1559872 Gross  \n",
              "35 PG-13      130   Drama, Mystery, Sci-Fi       Votes   1393788 Gross  \n",
              "36 R          117   Horror, Sci-Fi               Votes    917505 Gross  \n",
              "37 R          151   Crime, Drama, Thriller       Votes   1377550 Gross  \n",
              "38 R          132   Drama, Thriller              Votes    884700 Gross  \n",
              "39 R          165   Drama, Western               Votes   1631546 Gross  \n",
              "40 R          106   Drama, Music                 Votes    929294 Gross  \n",
              "41 R          110   Action, Crime, Drama         Votes   1207127 Gross  \n",
              "42 PG         116   Adventure, Comedy, Sci-Fi    Votes   1261059 Gross  \n",
              "43 R          106   Crime, Drama, Mystery        Votes   1117322 Gross  \n",
              "44 R          150   Biography, Drama, Music      Votes    875592 Gross  \n",
              "45 G           88   Animation, Adventure, Drama  Votes   1103588 Gross  \n",
              "46 R          119   Crime, Drama                 Votes   1156764 Gross  \n",
              "47 PG         102   Drama, Romance, War          Votes    591028 Gross  \n",
              "48 R          109   Horror, Mystery, Thriller    Votes    697363 NA     \n",
              "49 R          112   Biography, Comedy, Drama     Votes    896244 Gross  \n",
              "50 PG-13      165   Western                      Votes    341197 Gross  \n",
              "   n_gross  top sub   \n",
              "1  $28.34M   1   28.34\n",
              "2  $134.97M  2  134.97\n",
              "3  $534.86M  3  534.86\n",
              "4  $96.90M   6   96.90\n",
              "5  $377.85M  7  377.85\n",
              "6  $4.36M    5    4.36\n",
              "7  $57.30M   4   57.30\n",
              "8  $107.93M  8  107.93\n",
              "9  #19      NA   19.00\n",
              "10 $292.58M 14  292.58\n",
              "11 $37.03M  12   37.03\n",
              "12 $315.54M  9  315.54\n",
              "13 $330.25M 11  330.25\n",
              "14 $6.10M   10    6.10\n",
              "15 $342.55M 13  342.55\n",
              "16 $188.02M 24  188.02\n",
              "17 $46.84M  17   46.84\n",
              "18 $171.48M 16  171.48\n",
              "19 $112.00M 18  112.00\n",
              "20 $290.48M 15  290.48\n",
              "21 #39      NA   39.00\n",
              "22 $100.13M 20  100.13\n",
              "23 $130.74M 23  130.74\n",
              "24 $322.74M 29  322.74\n",
              "25 $136.80M 28  136.80\n",
              "26 $204.84M 30  204.84\n",
              "27 $216.54M 25  216.54\n",
              "28 $10.06M  32   10.06\n",
              "29 $7.56M   26    7.56\n",
              "30 NA       20      NA\n",
              "31 NA       45      NA\n",
              "32 #21      NA   21.00\n",
              "33 #47      NA   47.00\n",
              "34 $187.71M 36  187.71\n",
              "35 $53.09M  43   53.09\n",
              "36 $78.90M  53   78.90\n",
              "37 $132.38M 41  132.38\n",
              "38 $53.37M  35   53.37\n",
              "39 $162.81M 57  162.81\n",
              "40 $13.09M  42   13.09\n",
              "41 $19.50M  38   19.50\n",
              "42 $210.61M 31  210.61\n",
              "43 $23.34M  44   23.34\n",
              "44 $32.57M  33   32.57\n",
              "45 $422.78M 37  422.78\n",
              "46 $6.72M   40    6.72\n",
              "47 $1.02M   46    1.02\n",
              "48 NA       44      NA\n",
              "49 $13.18M  48   13.18\n",
              "50 $5.32M   51    5.32"
            ],
            "text/html": [
              "<table class=\"dataframe\">\n",
              "<caption>A data.frame: 50 × 12</caption>\n",
              "<thead>\n",
              "\t<tr><th scope=col>id</th><th scope=col>n_names</th><th scope=col>ratings</th><th scope=col>movie_rate</th><th scope=col>times</th><th scope=col>type</th><th scope=col>o_votes</th><th scope=col>n_votes</th><th scope=col>o_gross</th><th scope=col>n_gross</th><th scope=col>top</th><th scope=col>sub</th></tr>\n",
              "\t<tr><th scope=col>&lt;dbl&gt;</th><th scope=col>&lt;chr&gt;</th><th scope=col>&lt;dbl&gt;</th><th scope=col>&lt;chr&gt;</th><th scope=col>&lt;dbl&gt;</th><th scope=col>&lt;chr&gt;</th><th scope=col>&lt;chr&gt;</th><th scope=col>&lt;dbl&gt;</th><th scope=col>&lt;chr&gt;</th><th scope=col>&lt;chr&gt;</th><th scope=col>&lt;dbl&gt;</th><th scope=col>&lt;dbl&gt;</th></tr>\n",
              "</thead>\n",
              "<tbody>\n",
              "\t<tr><td> 1</td><td>The Shawshank Redemption (1994)                         </td><td>9.3</td><td>R        </td><td>142</td><td>Drama                       </td><td>Votes</td><td>2794416</td><td>Gross  </td><td>$28.34M </td><td> 1</td><td> 28.34</td></tr>\n",
              "\t<tr><td> 2</td><td>The Godfather (1972)                                    </td><td>9.2</td><td>R        </td><td>175</td><td>Crime, Drama                </td><td>Votes</td><td>1946579</td><td>Gross  </td><td>$134.97M</td><td> 2</td><td>134.97</td></tr>\n",
              "\t<tr><td> 3</td><td>The Dark Knight (2008)                                  </td><td>9.0</td><td>PG-13    </td><td>152</td><td>Action, Crime, Drama        </td><td>Votes</td><td>2775029</td><td>Gross  </td><td>$534.86M</td><td> 3</td><td>534.86</td></tr>\n",
              "\t<tr><td> 4</td><td>Schindler's List (1993)                                 </td><td>9.0</td><td>R        </td><td>195</td><td>Biography, Drama, History   </td><td>Votes</td><td>1405120</td><td>Gross  </td><td>$96.90M </td><td> 6</td><td> 96.90</td></tr>\n",
              "\t<tr><td> 5</td><td>The Lord of the Rings: The Return of the King (2003)    </td><td>9.0</td><td>PG-13    </td><td>201</td><td>Action, Adventure, Drama    </td><td>Votes</td><td>1913750</td><td>Gross  </td><td>$377.85M</td><td> 7</td><td>377.85</td></tr>\n",
              "\t<tr><td> 6</td><td>12 Angry Men (1957)                                     </td><td>9.0</td><td>Approved </td><td> 96</td><td>Crime, Drama                </td><td>Votes</td><td> 830263</td><td>Gross  </td><td>$4.36M  </td><td> 5</td><td>  4.36</td></tr>\n",
              "\t<tr><td> 7</td><td>The Godfather Part II (1974)                            </td><td>9.0</td><td>R        </td><td>202</td><td>Crime, Drama                </td><td>Votes</td><td>1322285</td><td>Gross  </td><td>$57.30M </td><td> 4</td><td> 57.30</td></tr>\n",
              "\t<tr><td> 8</td><td>Pulp Fiction (1994)                                     </td><td>8.9</td><td>R        </td><td>154</td><td>Crime, Drama                </td><td>Votes</td><td>2143599</td><td>Gross  </td><td>$107.93M</td><td> 8</td><td>107.93</td></tr>\n",
              "\t<tr><td> 9</td><td>Spider-Man: Across the Spider-Verse (2023)              </td><td>8.8</td><td>PG       </td><td>140</td><td>Animation, Action, Adventure</td><td>Votes</td><td> 250642</td><td>Top 250</td><td>#19     </td><td>NA</td><td> 19.00</td></tr>\n",
              "\t<tr><td>10</td><td>Inception (2010)                                        </td><td>8.8</td><td>PG-13    </td><td>148</td><td>Action, Adventure, Sci-Fi   </td><td>Votes</td><td>2463620</td><td>Gross  </td><td>$292.58M</td><td>14</td><td>292.58</td></tr>\n",
              "\t<tr><td>11</td><td>Fight Club (1999)                                       </td><td>8.8</td><td>R        </td><td>139</td><td>Drama                       </td><td>Votes</td><td>2228463</td><td>Gross  </td><td>$37.03M </td><td>12</td><td> 37.03</td></tr>\n",
              "\t<tr><td>12</td><td>The Lord of the Rings: The Fellowship of the Ring (2001)</td><td>8.8</td><td>PG-13    </td><td>178</td><td>Action, Adventure, Drama    </td><td>Votes</td><td>1941934</td><td>Gross  </td><td>$315.54M</td><td> 9</td><td>315.54</td></tr>\n",
              "\t<tr><td>13</td><td>Forrest Gump (1994)                                     </td><td>8.8</td><td>PG-13    </td><td>142</td><td>Drama, Romance              </td><td>Votes</td><td>2174133</td><td>Gross  </td><td>$330.25M</td><td>11</td><td>330.25</td></tr>\n",
              "\t<tr><td>14</td><td>The Good, the Bad and the Ugly (1966)                   </td><td>8.8</td><td>Approved </td><td>178</td><td>Adventure, Western          </td><td>Votes</td><td> 788179</td><td>Gross  </td><td>$6.10M  </td><td>10</td><td>  6.10</td></tr>\n",
              "\t<tr><td>15</td><td>The Lord of the Rings: The Two Towers (2002)            </td><td>8.8</td><td>PG-13    </td><td>179</td><td>Action, Adventure, Drama    </td><td>Votes</td><td>1726936</td><td>Gross  </td><td>$342.55M</td><td>13</td><td>342.55</td></tr>\n",
              "\t<tr><td>16</td><td>Interstellar (2014)                                     </td><td>8.7</td><td>PG-13    </td><td>169</td><td>Adventure, Drama, Sci-Fi    </td><td>Votes</td><td>1982374</td><td>Gross  </td><td>$188.02M</td><td>24</td><td>188.02</td></tr>\n",
              "\t<tr><td>17</td><td>Goodfellas (1990)                                       </td><td>8.7</td><td>R        </td><td>145</td><td>Biography, Crime, Drama     </td><td>Votes</td><td>1212480</td><td>Gross  </td><td>$46.84M </td><td>17</td><td> 46.84</td></tr>\n",
              "\t<tr><td>18</td><td>The Matrix (1999)                                       </td><td>8.7</td><td>R        </td><td>136</td><td>Action, Sci-Fi              </td><td>Votes</td><td>1987209</td><td>Gross  </td><td>$171.48M</td><td>16</td><td>171.48</td></tr>\n",
              "\t<tr><td>19</td><td>One Flew Over the Cuckoo's Nest (1975)                  </td><td>8.7</td><td>R        </td><td>133</td><td>Drama                       </td><td>Votes</td><td>1042059</td><td>Gross  </td><td>$112.00M</td><td>18</td><td>112.00</td></tr>\n",
              "\t<tr><td>20</td><td>Star Wars: Episode V - The Empire Strikes Back (1980)   </td><td>8.7</td><td>PG       </td><td>124</td><td>Action, Adventure, Fantasy  </td><td>Votes</td><td>1339851</td><td>Gross  </td><td>$290.48M</td><td>15</td><td>290.48</td></tr>\n",
              "\t<tr><td>21</td><td>Oppenheimer (2023)                                      </td><td>8.6</td><td>R        </td><td>180</td><td>Biography, Drama, History   </td><td>Votes</td><td> 416886</td><td>Top 250</td><td>#39     </td><td>NA</td><td> 39.00</td></tr>\n",
              "\t<tr><td>22</td><td>Se7en (1995)                                            </td><td>8.6</td><td>R        </td><td>127</td><td>Crime, Drama, Mystery       </td><td>Votes</td><td>1729908</td><td>Gross  </td><td>$100.13M</td><td>20</td><td>100.13</td></tr>\n",
              "\t<tr><td>23</td><td>The Silence of the Lambs (1991)                         </td><td>8.6</td><td>R        </td><td>118</td><td>Crime, Drama, Thriller      </td><td>Votes</td><td>1490800</td><td>Gross  </td><td>$130.74M</td><td>23</td><td>130.74</td></tr>\n",
              "\t<tr><td>24</td><td>Star Wars: Episode IV - A New Hope (1977)               </td><td>8.6</td><td>PG       </td><td>121</td><td>Action, Adventure, Fantasy  </td><td>Votes</td><td>1411621</td><td>Gross  </td><td>$322.74M</td><td>29</td><td>322.74</td></tr>\n",
              "\t<tr><td>25</td><td>The Green Mile (1999)                                   </td><td>8.6</td><td>R        </td><td>189</td><td>Crime, Drama, Fantasy       </td><td>Votes</td><td>1358207</td><td>Gross  </td><td>$136.80M</td><td>28</td><td>136.80</td></tr>\n",
              "\t<tr><td>26</td><td>Terminator 2: Judgment Day (1991)                       </td><td>8.6</td><td>R        </td><td>137</td><td>Action, Sci-Fi              </td><td>Votes</td><td>1139976</td><td>Gross  </td><td>$204.84M</td><td>30</td><td>204.84</td></tr>\n",
              "\t<tr><td>27</td><td>Saving Private Ryan (1998)                              </td><td>8.6</td><td>R        </td><td>169</td><td>Drama, War                  </td><td>Votes</td><td>1447369</td><td>Gross  </td><td>$216.54M</td><td>25</td><td>216.54</td></tr>\n",
              "\t<tr><td>28</td><td>Spirited Away (2001)                                    </td><td>8.6</td><td>PG       </td><td>125</td><td>Animation, Adventure, Family</td><td>Votes</td><td> 807743</td><td>Gross  </td><td>$10.06M </td><td>32</td><td> 10.06</td></tr>\n",
              "\t<tr><td>29</td><td>City of God (2002)                                      </td><td>8.6</td><td>R        </td><td>130</td><td>Crime, Drama                </td><td>Votes</td><td> 780502</td><td>Gross  </td><td>$7.56M  </td><td>26</td><td>  7.56</td></tr>\n",
              "\t<tr><td>30</td><td>Life Is Beautiful (1997)                                </td><td>8.6</td><td>PG-13    </td><td>116</td><td>Comedy, Drama, Romance      </td><td>Votes</td><td> 721291</td><td>NA     </td><td>NA      </td><td>20</td><td>    NA</td></tr>\n",
              "\t<tr><td>31</td><td>Seven Samurai (1954)                                    </td><td>8.6</td><td>Not Rated</td><td>207</td><td>Action, Drama               </td><td>Votes</td><td> 357457</td><td>NA     </td><td>NA      </td><td>45</td><td>    NA</td></tr>\n",
              "\t<tr><td>32</td><td>It's a Wonderful Life (1946)                            </td><td>8.6</td><td>PG       </td><td>130</td><td>Drama, Family, Fantasy      </td><td>Votes</td><td> 478286</td><td>Top 250</td><td>#21     </td><td>NA</td><td> 21.00</td></tr>\n",
              "\t<tr><td>33</td><td>Harakiri (1962)                                         </td><td>8.6</td><td>Not Rated</td><td>133</td><td>Action, Drama, Mystery      </td><td>Votes</td><td>  63459</td><td>Top 250</td><td>#47     </td><td>NA</td><td> 47.00</td></tr>\n",
              "\t<tr><td>34</td><td>Gladiator (2000)                                        </td><td>8.5</td><td>R        </td><td>155</td><td>Action, Adventure, Drama    </td><td>Votes</td><td>1559872</td><td>Gross  </td><td>$187.71M</td><td>36</td><td>187.71</td></tr>\n",
              "\t<tr><td>35</td><td>The Prestige (2006)                                     </td><td>8.5</td><td>PG-13    </td><td>130</td><td>Drama, Mystery, Sci-Fi      </td><td>Votes</td><td>1393788</td><td>Gross  </td><td>$53.09M </td><td>43</td><td> 53.09</td></tr>\n",
              "\t<tr><td>36</td><td>Alien (1979)                                            </td><td>8.5</td><td>R        </td><td>117</td><td>Horror, Sci-Fi              </td><td>Votes</td><td> 917505</td><td>Gross  </td><td>$78.90M </td><td>53</td><td> 78.90</td></tr>\n",
              "\t<tr><td>37</td><td>The Departed (2006)                                     </td><td>8.5</td><td>R        </td><td>151</td><td>Crime, Drama, Thriller      </td><td>Votes</td><td>1377550</td><td>Gross  </td><td>$132.38M</td><td>41</td><td>132.38</td></tr>\n",
              "\t<tr><td>38</td><td>Parasite (2019)                                         </td><td>8.5</td><td>R        </td><td>132</td><td>Drama, Thriller             </td><td>Votes</td><td> 884700</td><td>Gross  </td><td>$53.37M </td><td>35</td><td> 53.37</td></tr>\n",
              "\t<tr><td>39</td><td>Django Unchained (2012)                                 </td><td>8.5</td><td>R        </td><td>165</td><td>Drama, Western              </td><td>Votes</td><td>1631546</td><td>Gross  </td><td>$162.81M</td><td>57</td><td>162.81</td></tr>\n",
              "\t<tr><td>40</td><td>Whiplash (2014)                                         </td><td>8.5</td><td>R        </td><td>106</td><td>Drama, Music                </td><td>Votes</td><td> 929294</td><td>Gross  </td><td>$13.09M </td><td>42</td><td> 13.09</td></tr>\n",
              "\t<tr><td>41</td><td>Léon: The Professional (1994)                           </td><td>8.5</td><td>R        </td><td>110</td><td>Action, Crime, Drama        </td><td>Votes</td><td>1207127</td><td>Gross  </td><td>$19.50M </td><td>38</td><td> 19.50</td></tr>\n",
              "\t<tr><td>42</td><td>Back to the Future (1985)                               </td><td>8.5</td><td>PG       </td><td>116</td><td>Adventure, Comedy, Sci-Fi   </td><td>Votes</td><td>1261059</td><td>Gross  </td><td>$210.61M</td><td>31</td><td>210.61</td></tr>\n",
              "\t<tr><td>43</td><td>The Usual Suspects (1995)                               </td><td>8.5</td><td>R        </td><td>106</td><td>Crime, Drama, Mystery       </td><td>Votes</td><td>1117322</td><td>Gross  </td><td>$23.34M </td><td>44</td><td> 23.34</td></tr>\n",
              "\t<tr><td>44</td><td>The Pianist (2002)                                      </td><td>8.5</td><td>R        </td><td>150</td><td>Biography, Drama, Music     </td><td>Votes</td><td> 875592</td><td>Gross  </td><td>$32.57M </td><td>33</td><td> 32.57</td></tr>\n",
              "\t<tr><td>45</td><td>The Lion King (1994)                                    </td><td>8.5</td><td>G        </td><td> 88</td><td>Animation, Adventure, Drama </td><td>Votes</td><td>1103588</td><td>Gross  </td><td>$422.78M</td><td>37</td><td>422.78</td></tr>\n",
              "\t<tr><td>46</td><td>American History X (1998)                               </td><td>8.5</td><td>R        </td><td>119</td><td>Crime, Drama                </td><td>Votes</td><td>1156764</td><td>Gross  </td><td>$6.72M  </td><td>40</td><td>  6.72</td></tr>\n",
              "\t<tr><td>47</td><td>Casablanca (1942)                                       </td><td>8.5</td><td>PG       </td><td>102</td><td>Drama, Romance, War         </td><td>Votes</td><td> 591028</td><td>Gross  </td><td>$1.02M  </td><td>46</td><td>  1.02</td></tr>\n",
              "\t<tr><td>48</td><td>Psycho (1960)                                           </td><td>8.5</td><td>R        </td><td>109</td><td>Horror, Mystery, Thriller   </td><td>Votes</td><td> 697363</td><td>NA     </td><td>NA      </td><td>44</td><td>    NA</td></tr>\n",
              "\t<tr><td>49</td><td>The Intouchables (2011)                                 </td><td>8.5</td><td>R        </td><td>112</td><td>Biography, Comedy, Drama    </td><td>Votes</td><td> 896244</td><td>Gross  </td><td>$13.18M </td><td>48</td><td> 13.18</td></tr>\n",
              "\t<tr><td>50</td><td>Once Upon a Time in the West (1968)                     </td><td>8.5</td><td>PG-13    </td><td>165</td><td>Western                     </td><td>Votes</td><td> 341197</td><td>Gross  </td><td>$5.32M  </td><td>51</td><td>  5.32</td></tr>\n",
              "</tbody>\n",
              "</table>\n"
            ],
            "text/markdown": "\nA data.frame: 50 × 12\n\n| id &lt;dbl&gt; | n_names &lt;chr&gt; | ratings &lt;dbl&gt; | movie_rate &lt;chr&gt; | times &lt;dbl&gt; | type &lt;chr&gt; | o_votes &lt;chr&gt; | n_votes &lt;dbl&gt; | o_gross &lt;chr&gt; | n_gross &lt;chr&gt; | top &lt;dbl&gt; | sub &lt;dbl&gt; |\n|---|---|---|---|---|---|---|---|---|---|---|---|\n|  1 | The Shawshank Redemption (1994)                          | 9.3 | R         | 142 | Drama                        | Votes | 2794416 | Gross   | $28.34M  |  1 |  28.34 |\n|  2 | The Godfather (1972)                                     | 9.2 | R         | 175 | Crime, Drama                 | Votes | 1946579 | Gross   | $134.97M |  2 | 134.97 |\n|  3 | The Dark Knight (2008)                                   | 9.0 | PG-13     | 152 | Action, Crime, Drama         | Votes | 2775029 | Gross   | $534.86M |  3 | 534.86 |\n|  4 | Schindler's List (1993)                                  | 9.0 | R         | 195 | Biography, Drama, History    | Votes | 1405120 | Gross   | $96.90M  |  6 |  96.90 |\n|  5 | The Lord of the Rings: The Return of the King (2003)     | 9.0 | PG-13     | 201 | Action, Adventure, Drama     | Votes | 1913750 | Gross   | $377.85M |  7 | 377.85 |\n|  6 | 12 Angry Men (1957)                                      | 9.0 | Approved  |  96 | Crime, Drama                 | Votes |  830263 | Gross   | $4.36M   |  5 |   4.36 |\n|  7 | The Godfather Part II (1974)                             | 9.0 | R         | 202 | Crime, Drama                 | Votes | 1322285 | Gross   | $57.30M  |  4 |  57.30 |\n|  8 | Pulp Fiction (1994)                                      | 8.9 | R         | 154 | Crime, Drama                 | Votes | 2143599 | Gross   | $107.93M |  8 | 107.93 |\n|  9 | Spider-Man: Across the Spider-Verse (2023)               | 8.8 | PG        | 140 | Animation, Action, Adventure | Votes |  250642 | Top 250 | #19      | NA |  19.00 |\n| 10 | Inception (2010)                                         | 8.8 | PG-13     | 148 | Action, Adventure, Sci-Fi    | Votes | 2463620 | Gross   | $292.58M | 14 | 292.58 |\n| 11 | Fight Club (1999)                                        | 8.8 | R         | 139 | Drama                        | Votes | 2228463 | Gross   | $37.03M  | 12 |  37.03 |\n| 12 | The Lord of the Rings: The Fellowship of the Ring (2001) | 8.8 | PG-13     | 178 | Action, Adventure, Drama     | Votes | 1941934 | Gross   | $315.54M |  9 | 315.54 |\n| 13 | Forrest Gump (1994)                                      | 8.8 | PG-13     | 142 | Drama, Romance               | Votes | 2174133 | Gross   | $330.25M | 11 | 330.25 |\n| 14 | The Good, the Bad and the Ugly (1966)                    | 8.8 | Approved  | 178 | Adventure, Western           | Votes |  788179 | Gross   | $6.10M   | 10 |   6.10 |\n| 15 | The Lord of the Rings: The Two Towers (2002)             | 8.8 | PG-13     | 179 | Action, Adventure, Drama     | Votes | 1726936 | Gross   | $342.55M | 13 | 342.55 |\n| 16 | Interstellar (2014)                                      | 8.7 | PG-13     | 169 | Adventure, Drama, Sci-Fi     | Votes | 1982374 | Gross   | $188.02M | 24 | 188.02 |\n| 17 | Goodfellas (1990)                                        | 8.7 | R         | 145 | Biography, Crime, Drama      | Votes | 1212480 | Gross   | $46.84M  | 17 |  46.84 |\n| 18 | The Matrix (1999)                                        | 8.7 | R         | 136 | Action, Sci-Fi               | Votes | 1987209 | Gross   | $171.48M | 16 | 171.48 |\n| 19 | One Flew Over the Cuckoo's Nest (1975)                   | 8.7 | R         | 133 | Drama                        | Votes | 1042059 | Gross   | $112.00M | 18 | 112.00 |\n| 20 | Star Wars: Episode V - The Empire Strikes Back (1980)    | 8.7 | PG        | 124 | Action, Adventure, Fantasy   | Votes | 1339851 | Gross   | $290.48M | 15 | 290.48 |\n| 21 | Oppenheimer (2023)                                       | 8.6 | R         | 180 | Biography, Drama, History    | Votes |  416886 | Top 250 | #39      | NA |  39.00 |\n| 22 | Se7en (1995)                                             | 8.6 | R         | 127 | Crime, Drama, Mystery        | Votes | 1729908 | Gross   | $100.13M | 20 | 100.13 |\n| 23 | The Silence of the Lambs (1991)                          | 8.6 | R         | 118 | Crime, Drama, Thriller       | Votes | 1490800 | Gross   | $130.74M | 23 | 130.74 |\n| 24 | Star Wars: Episode IV - A New Hope (1977)                | 8.6 | PG        | 121 | Action, Adventure, Fantasy   | Votes | 1411621 | Gross   | $322.74M | 29 | 322.74 |\n| 25 | The Green Mile (1999)                                    | 8.6 | R         | 189 | Crime, Drama, Fantasy        | Votes | 1358207 | Gross   | $136.80M | 28 | 136.80 |\n| 26 | Terminator 2: Judgment Day (1991)                        | 8.6 | R         | 137 | Action, Sci-Fi               | Votes | 1139976 | Gross   | $204.84M | 30 | 204.84 |\n| 27 | Saving Private Ryan (1998)                               | 8.6 | R         | 169 | Drama, War                   | Votes | 1447369 | Gross   | $216.54M | 25 | 216.54 |\n| 28 | Spirited Away (2001)                                     | 8.6 | PG        | 125 | Animation, Adventure, Family | Votes |  807743 | Gross   | $10.06M  | 32 |  10.06 |\n| 29 | City of God (2002)                                       | 8.6 | R         | 130 | Crime, Drama                 | Votes |  780502 | Gross   | $7.56M   | 26 |   7.56 |\n| 30 | Life Is Beautiful (1997)                                 | 8.6 | PG-13     | 116 | Comedy, Drama, Romance       | Votes |  721291 | NA      | NA       | 20 |     NA |\n| 31 | Seven Samurai (1954)                                     | 8.6 | Not Rated | 207 | Action, Drama                | Votes |  357457 | NA      | NA       | 45 |     NA |\n| 32 | It's a Wonderful Life (1946)                             | 8.6 | PG        | 130 | Drama, Family, Fantasy       | Votes |  478286 | Top 250 | #21      | NA |  21.00 |\n| 33 | Harakiri (1962)                                          | 8.6 | Not Rated | 133 | Action, Drama, Mystery       | Votes |   63459 | Top 250 | #47      | NA |  47.00 |\n| 34 | Gladiator (2000)                                         | 8.5 | R         | 155 | Action, Adventure, Drama     | Votes | 1559872 | Gross   | $187.71M | 36 | 187.71 |\n| 35 | The Prestige (2006)                                      | 8.5 | PG-13     | 130 | Drama, Mystery, Sci-Fi       | Votes | 1393788 | Gross   | $53.09M  | 43 |  53.09 |\n| 36 | Alien (1979)                                             | 8.5 | R         | 117 | Horror, Sci-Fi               | Votes |  917505 | Gross   | $78.90M  | 53 |  78.90 |\n| 37 | The Departed (2006)                                      | 8.5 | R         | 151 | Crime, Drama, Thriller       | Votes | 1377550 | Gross   | $132.38M | 41 | 132.38 |\n| 38 | Parasite (2019)                                          | 8.5 | R         | 132 | Drama, Thriller              | Votes |  884700 | Gross   | $53.37M  | 35 |  53.37 |\n| 39 | Django Unchained (2012)                                  | 8.5 | R         | 165 | Drama, Western               | Votes | 1631546 | Gross   | $162.81M | 57 | 162.81 |\n| 40 | Whiplash (2014)                                          | 8.5 | R         | 106 | Drama, Music                 | Votes |  929294 | Gross   | $13.09M  | 42 |  13.09 |\n| 41 | Léon: The Professional (1994)                            | 8.5 | R         | 110 | Action, Crime, Drama         | Votes | 1207127 | Gross   | $19.50M  | 38 |  19.50 |\n| 42 | Back to the Future (1985)                                | 8.5 | PG        | 116 | Adventure, Comedy, Sci-Fi    | Votes | 1261059 | Gross   | $210.61M | 31 | 210.61 |\n| 43 | The Usual Suspects (1995)                                | 8.5 | R         | 106 | Crime, Drama, Mystery        | Votes | 1117322 | Gross   | $23.34M  | 44 |  23.34 |\n| 44 | The Pianist (2002)                                       | 8.5 | R         | 150 | Biography, Drama, Music      | Votes |  875592 | Gross   | $32.57M  | 33 |  32.57 |\n| 45 | The Lion King (1994)                                     | 8.5 | G         |  88 | Animation, Adventure, Drama  | Votes | 1103588 | Gross   | $422.78M | 37 | 422.78 |\n| 46 | American History X (1998)                                | 8.5 | R         | 119 | Crime, Drama                 | Votes | 1156764 | Gross   | $6.72M   | 40 |   6.72 |\n| 47 | Casablanca (1942)                                        | 8.5 | PG        | 102 | Drama, Romance, War          | Votes |  591028 | Gross   | $1.02M   | 46 |   1.02 |\n| 48 | Psycho (1960)                                            | 8.5 | R         | 109 | Horror, Mystery, Thriller    | Votes |  697363 | NA      | NA       | 44 |     NA |\n| 49 | The Intouchables (2011)                                  | 8.5 | R         | 112 | Biography, Comedy, Drama     | Votes |  896244 | Gross   | $13.18M  | 48 |  13.18 |\n| 50 | Once Upon a Time in the West (1968)                      | 8.5 | PG-13     | 165 | Western                      | Votes |  341197 | Gross   | $5.32M   | 51 |   5.32 |\n\n",
            "text/latex": "A data.frame: 50 × 12\n\\begin{tabular}{llllllllllll}\n id & n\\_names & ratings & movie\\_rate & times & type & o\\_votes & n\\_votes & o\\_gross & n\\_gross & top & sub\\\\\n <dbl> & <chr> & <dbl> & <chr> & <dbl> & <chr> & <chr> & <dbl> & <chr> & <chr> & <dbl> & <dbl>\\\\\n\\hline\n\t  1 & The Shawshank Redemption (1994)                          & 9.3 & R         & 142 & Drama                        & Votes & 2794416 & Gross   & \\$28.34M  &  1 &  28.34\\\\\n\t  2 & The Godfather (1972)                                     & 9.2 & R         & 175 & Crime, Drama                 & Votes & 1946579 & Gross   & \\$134.97M &  2 & 134.97\\\\\n\t  3 & The Dark Knight (2008)                                   & 9.0 & PG-13     & 152 & Action, Crime, Drama         & Votes & 2775029 & Gross   & \\$534.86M &  3 & 534.86\\\\\n\t  4 & Schindler's List (1993)                                  & 9.0 & R         & 195 & Biography, Drama, History    & Votes & 1405120 & Gross   & \\$96.90M  &  6 &  96.90\\\\\n\t  5 & The Lord of the Rings: The Return of the King (2003)     & 9.0 & PG-13     & 201 & Action, Adventure, Drama     & Votes & 1913750 & Gross   & \\$377.85M &  7 & 377.85\\\\\n\t  6 & 12 Angry Men (1957)                                      & 9.0 & Approved  &  96 & Crime, Drama                 & Votes &  830263 & Gross   & \\$4.36M   &  5 &   4.36\\\\\n\t  7 & The Godfather Part II (1974)                             & 9.0 & R         & 202 & Crime, Drama                 & Votes & 1322285 & Gross   & \\$57.30M  &  4 &  57.30\\\\\n\t  8 & Pulp Fiction (1994)                                      & 8.9 & R         & 154 & Crime, Drama                 & Votes & 2143599 & Gross   & \\$107.93M &  8 & 107.93\\\\\n\t  9 & Spider-Man: Across the Spider-Verse (2023)               & 8.8 & PG        & 140 & Animation, Action, Adventure & Votes &  250642 & Top 250 & \\#19      & NA &  19.00\\\\\n\t 10 & Inception (2010)                                         & 8.8 & PG-13     & 148 & Action, Adventure, Sci-Fi    & Votes & 2463620 & Gross   & \\$292.58M & 14 & 292.58\\\\\n\t 11 & Fight Club (1999)                                        & 8.8 & R         & 139 & Drama                        & Votes & 2228463 & Gross   & \\$37.03M  & 12 &  37.03\\\\\n\t 12 & The Lord of the Rings: The Fellowship of the Ring (2001) & 8.8 & PG-13     & 178 & Action, Adventure, Drama     & Votes & 1941934 & Gross   & \\$315.54M &  9 & 315.54\\\\\n\t 13 & Forrest Gump (1994)                                      & 8.8 & PG-13     & 142 & Drama, Romance               & Votes & 2174133 & Gross   & \\$330.25M & 11 & 330.25\\\\\n\t 14 & The Good, the Bad and the Ugly (1966)                    & 8.8 & Approved  & 178 & Adventure, Western           & Votes &  788179 & Gross   & \\$6.10M   & 10 &   6.10\\\\\n\t 15 & The Lord of the Rings: The Two Towers (2002)             & 8.8 & PG-13     & 179 & Action, Adventure, Drama     & Votes & 1726936 & Gross   & \\$342.55M & 13 & 342.55\\\\\n\t 16 & Interstellar (2014)                                      & 8.7 & PG-13     & 169 & Adventure, Drama, Sci-Fi     & Votes & 1982374 & Gross   & \\$188.02M & 24 & 188.02\\\\\n\t 17 & Goodfellas (1990)                                        & 8.7 & R         & 145 & Biography, Crime, Drama      & Votes & 1212480 & Gross   & \\$46.84M  & 17 &  46.84\\\\\n\t 18 & The Matrix (1999)                                        & 8.7 & R         & 136 & Action, Sci-Fi               & Votes & 1987209 & Gross   & \\$171.48M & 16 & 171.48\\\\\n\t 19 & One Flew Over the Cuckoo's Nest (1975)                   & 8.7 & R         & 133 & Drama                        & Votes & 1042059 & Gross   & \\$112.00M & 18 & 112.00\\\\\n\t 20 & Star Wars: Episode V - The Empire Strikes Back (1980)    & 8.7 & PG        & 124 & Action, Adventure, Fantasy   & Votes & 1339851 & Gross   & \\$290.48M & 15 & 290.48\\\\\n\t 21 & Oppenheimer (2023)                                       & 8.6 & R         & 180 & Biography, Drama, History    & Votes &  416886 & Top 250 & \\#39      & NA &  39.00\\\\\n\t 22 & Se7en (1995)                                             & 8.6 & R         & 127 & Crime, Drama, Mystery        & Votes & 1729908 & Gross   & \\$100.13M & 20 & 100.13\\\\\n\t 23 & The Silence of the Lambs (1991)                          & 8.6 & R         & 118 & Crime, Drama, Thriller       & Votes & 1490800 & Gross   & \\$130.74M & 23 & 130.74\\\\\n\t 24 & Star Wars: Episode IV - A New Hope (1977)                & 8.6 & PG        & 121 & Action, Adventure, Fantasy   & Votes & 1411621 & Gross   & \\$322.74M & 29 & 322.74\\\\\n\t 25 & The Green Mile (1999)                                    & 8.6 & R         & 189 & Crime, Drama, Fantasy        & Votes & 1358207 & Gross   & \\$136.80M & 28 & 136.80\\\\\n\t 26 & Terminator 2: Judgment Day (1991)                        & 8.6 & R         & 137 & Action, Sci-Fi               & Votes & 1139976 & Gross   & \\$204.84M & 30 & 204.84\\\\\n\t 27 & Saving Private Ryan (1998)                               & 8.6 & R         & 169 & Drama, War                   & Votes & 1447369 & Gross   & \\$216.54M & 25 & 216.54\\\\\n\t 28 & Spirited Away (2001)                                     & 8.6 & PG        & 125 & Animation, Adventure, Family & Votes &  807743 & Gross   & \\$10.06M  & 32 &  10.06\\\\\n\t 29 & City of God (2002)                                       & 8.6 & R         & 130 & Crime, Drama                 & Votes &  780502 & Gross   & \\$7.56M   & 26 &   7.56\\\\\n\t 30 & Life Is Beautiful (1997)                                 & 8.6 & PG-13     & 116 & Comedy, Drama, Romance       & Votes &  721291 & NA      & NA       & 20 &     NA\\\\\n\t 31 & Seven Samurai (1954)                                     & 8.6 & Not Rated & 207 & Action, Drama                & Votes &  357457 & NA      & NA       & 45 &     NA\\\\\n\t 32 & It's a Wonderful Life (1946)                             & 8.6 & PG        & 130 & Drama, Family, Fantasy       & Votes &  478286 & Top 250 & \\#21      & NA &  21.00\\\\\n\t 33 & Harakiri (1962)                                          & 8.6 & Not Rated & 133 & Action, Drama, Mystery       & Votes &   63459 & Top 250 & \\#47      & NA &  47.00\\\\\n\t 34 & Gladiator (2000)                                         & 8.5 & R         & 155 & Action, Adventure, Drama     & Votes & 1559872 & Gross   & \\$187.71M & 36 & 187.71\\\\\n\t 35 & The Prestige (2006)                                      & 8.5 & PG-13     & 130 & Drama, Mystery, Sci-Fi       & Votes & 1393788 & Gross   & \\$53.09M  & 43 &  53.09\\\\\n\t 36 & Alien (1979)                                             & 8.5 & R         & 117 & Horror, Sci-Fi               & Votes &  917505 & Gross   & \\$78.90M  & 53 &  78.90\\\\\n\t 37 & The Departed (2006)                                      & 8.5 & R         & 151 & Crime, Drama, Thriller       & Votes & 1377550 & Gross   & \\$132.38M & 41 & 132.38\\\\\n\t 38 & Parasite (2019)                                          & 8.5 & R         & 132 & Drama, Thriller              & Votes &  884700 & Gross   & \\$53.37M  & 35 &  53.37\\\\\n\t 39 & Django Unchained (2012)                                  & 8.5 & R         & 165 & Drama, Western               & Votes & 1631546 & Gross   & \\$162.81M & 57 & 162.81\\\\\n\t 40 & Whiplash (2014)                                          & 8.5 & R         & 106 & Drama, Music                 & Votes &  929294 & Gross   & \\$13.09M  & 42 &  13.09\\\\\n\t 41 & Léon: The Professional (1994)                            & 8.5 & R         & 110 & Action, Crime, Drama         & Votes & 1207127 & Gross   & \\$19.50M  & 38 &  19.50\\\\\n\t 42 & Back to the Future (1985)                                & 8.5 & PG        & 116 & Adventure, Comedy, Sci-Fi    & Votes & 1261059 & Gross   & \\$210.61M & 31 & 210.61\\\\\n\t 43 & The Usual Suspects (1995)                                & 8.5 & R         & 106 & Crime, Drama, Mystery        & Votes & 1117322 & Gross   & \\$23.34M  & 44 &  23.34\\\\\n\t 44 & The Pianist (2002)                                       & 8.5 & R         & 150 & Biography, Drama, Music      & Votes &  875592 & Gross   & \\$32.57M  & 33 &  32.57\\\\\n\t 45 & The Lion King (1994)                                     & 8.5 & G         &  88 & Animation, Adventure, Drama  & Votes & 1103588 & Gross   & \\$422.78M & 37 & 422.78\\\\\n\t 46 & American History X (1998)                                & 8.5 & R         & 119 & Crime, Drama                 & Votes & 1156764 & Gross   & \\$6.72M   & 40 &   6.72\\\\\n\t 47 & Casablanca (1942)                                        & 8.5 & PG        & 102 & Drama, Romance, War          & Votes &  591028 & Gross   & \\$1.02M   & 46 &   1.02\\\\\n\t 48 & Psycho (1960)                                            & 8.5 & R         & 109 & Horror, Mystery, Thriller    & Votes &  697363 & NA      & NA       & 44 &     NA\\\\\n\t 49 & The Intouchables (2011)                                  & 8.5 & R         & 112 & Biography, Comedy, Drama     & Votes &  896244 & Gross   & \\$13.18M  & 48 &  13.18\\\\\n\t 50 & Once Upon a Time in the West (1968)                      & 8.5 & PG-13     & 165 & Western                      & Votes &  341197 & Gross   & \\$5.32M   & 51 &   5.32\\\\\n\\end{tabular}\n"
          },
          "metadata": {}
        }
      ]
    },
    {
      "cell_type": "markdown",
      "source": [
        "# **Summary Data**"
      ],
      "metadata": {
        "id": "1P31Qvf6SR-g"
      }
    },
    {
      "cell_type": "code",
      "source": [
        "top_50 <- new_df %>%\n",
        "  select(id,\n",
        "    name = n_names,\n",
        "    ratings,\n",
        "    type,\n",
        "    runtimes_Minutes = times,\n",
        "    gross_Millions = sub,\n",
        "    range = top\n",
        "    )\n",
        "View(top_50)"
      ],
      "metadata": {
        "id": "f2Frzxs6XPlC",
        "colab": {
          "base_uri": "https://localhost:8080/",
          "height": 1000
        },
        "outputId": "be0f1fdf-8c31-4625-d9bf-8fcf4d93a305"
      },
      "execution_count": null,
      "outputs": [
        {
          "output_type": "display_data",
          "data": {
            "text/plain": [
              "   id name                                                     ratings\n",
              "1   1 The Shawshank Redemption (1994)                          9.3    \n",
              "2   2 The Godfather (1972)                                     9.2    \n",
              "3   3 The Dark Knight (2008)                                   9.0    \n",
              "4   4 Schindler's List (1993)                                  9.0    \n",
              "5   5 The Lord of the Rings: The Return of the King (2003)     9.0    \n",
              "6   6 12 Angry Men (1957)                                      9.0    \n",
              "7   7 The Godfather Part II (1974)                             9.0    \n",
              "8   8 Pulp Fiction (1994)                                      8.9    \n",
              "9   9 Spider-Man: Across the Spider-Verse (2023)               8.8    \n",
              "10 10 Inception (2010)                                         8.8    \n",
              "11 11 Fight Club (1999)                                        8.8    \n",
              "12 12 The Lord of the Rings: The Fellowship of the Ring (2001) 8.8    \n",
              "13 13 Forrest Gump (1994)                                      8.8    \n",
              "14 14 The Good, the Bad and the Ugly (1966)                    8.8    \n",
              "15 15 The Lord of the Rings: The Two Towers (2002)             8.8    \n",
              "16 16 Interstellar (2014)                                      8.7    \n",
              "17 17 Goodfellas (1990)                                        8.7    \n",
              "18 18 The Matrix (1999)                                        8.7    \n",
              "19 19 One Flew Over the Cuckoo's Nest (1975)                   8.7    \n",
              "20 20 Star Wars: Episode V - The Empire Strikes Back (1980)    8.7    \n",
              "21 21 Oppenheimer (2023)                                       8.6    \n",
              "22 22 Se7en (1995)                                             8.6    \n",
              "23 23 The Silence of the Lambs (1991)                          8.6    \n",
              "24 24 Star Wars: Episode IV - A New Hope (1977)                8.6    \n",
              "25 25 The Green Mile (1999)                                    8.6    \n",
              "26 26 Terminator 2: Judgment Day (1991)                        8.6    \n",
              "27 27 Saving Private Ryan (1998)                               8.6    \n",
              "28 28 Spirited Away (2001)                                     8.6    \n",
              "29 29 City of God (2002)                                       8.6    \n",
              "30 30 Life Is Beautiful (1997)                                 8.6    \n",
              "31 31 Seven Samurai (1954)                                     8.6    \n",
              "32 32 It's a Wonderful Life (1946)                             8.6    \n",
              "33 33 Harakiri (1962)                                          8.6    \n",
              "34 34 Gladiator (2000)                                         8.5    \n",
              "35 35 The Prestige (2006)                                      8.5    \n",
              "36 36 Alien (1979)                                             8.5    \n",
              "37 37 The Departed (2006)                                      8.5    \n",
              "38 38 Parasite (2019)                                          8.5    \n",
              "39 39 Django Unchained (2012)                                  8.5    \n",
              "40 40 Whiplash (2014)                                          8.5    \n",
              "41 41 Léon: The Professional (1994)                            8.5    \n",
              "42 42 Back to the Future (1985)                                8.5    \n",
              "43 43 The Usual Suspects (1995)                                8.5    \n",
              "44 44 The Pianist (2002)                                       8.5    \n",
              "45 45 The Lion King (1994)                                     8.5    \n",
              "46 46 American History X (1998)                                8.5    \n",
              "47 47 Casablanca (1942)                                        8.5    \n",
              "48 48 Psycho (1960)                                            8.5    \n",
              "49 49 The Intouchables (2011)                                  8.5    \n",
              "50 50 Once Upon a Time in the West (1968)                      8.5    \n",
              "   type                         runtimes_Minutes gross_Millions range\n",
              "1  Drama                        142               28.34          1   \n",
              "2  Crime, Drama                 175              134.97          2   \n",
              "3  Action, Crime, Drama         152              534.86          3   \n",
              "4  Biography, Drama, History    195               96.90          6   \n",
              "5  Action, Adventure, Drama     201              377.85          7   \n",
              "6  Crime, Drama                  96                4.36          5   \n",
              "7  Crime, Drama                 202               57.30          4   \n",
              "8  Crime, Drama                 154              107.93          8   \n",
              "9  Animation, Action, Adventure 140               19.00         NA   \n",
              "10 Action, Adventure, Sci-Fi    148              292.58         14   \n",
              "11 Drama                        139               37.03         12   \n",
              "12 Action, Adventure, Drama     178              315.54          9   \n",
              "13 Drama, Romance               142              330.25         11   \n",
              "14 Adventure, Western           178                6.10         10   \n",
              "15 Action, Adventure, Drama     179              342.55         13   \n",
              "16 Adventure, Drama, Sci-Fi     169              188.02         24   \n",
              "17 Biography, Crime, Drama      145               46.84         17   \n",
              "18 Action, Sci-Fi               136              171.48         16   \n",
              "19 Drama                        133              112.00         18   \n",
              "20 Action, Adventure, Fantasy   124              290.48         15   \n",
              "21 Biography, Drama, History    180               39.00         NA   \n",
              "22 Crime, Drama, Mystery        127              100.13         20   \n",
              "23 Crime, Drama, Thriller       118              130.74         23   \n",
              "24 Action, Adventure, Fantasy   121              322.74         29   \n",
              "25 Crime, Drama, Fantasy        189              136.80         28   \n",
              "26 Action, Sci-Fi               137              204.84         30   \n",
              "27 Drama, War                   169              216.54         25   \n",
              "28 Animation, Adventure, Family 125               10.06         32   \n",
              "29 Crime, Drama                 130                7.56         26   \n",
              "30 Comedy, Drama, Romance       116                  NA         20   \n",
              "31 Action, Drama                207                  NA         45   \n",
              "32 Drama, Family, Fantasy       130               21.00         NA   \n",
              "33 Action, Drama, Mystery       133               47.00         NA   \n",
              "34 Action, Adventure, Drama     155              187.71         36   \n",
              "35 Drama, Mystery, Sci-Fi       130               53.09         43   \n",
              "36 Horror, Sci-Fi               117               78.90         53   \n",
              "37 Crime, Drama, Thriller       151              132.38         41   \n",
              "38 Drama, Thriller              132               53.37         35   \n",
              "39 Drama, Western               165              162.81         57   \n",
              "40 Drama, Music                 106               13.09         42   \n",
              "41 Action, Crime, Drama         110               19.50         38   \n",
              "42 Adventure, Comedy, Sci-Fi    116              210.61         31   \n",
              "43 Crime, Drama, Mystery        106               23.34         44   \n",
              "44 Biography, Drama, Music      150               32.57         33   \n",
              "45 Animation, Adventure, Drama   88              422.78         37   \n",
              "46 Crime, Drama                 119                6.72         40   \n",
              "47 Drama, Romance, War          102                1.02         46   \n",
              "48 Horror, Mystery, Thriller    109                  NA         44   \n",
              "49 Biography, Comedy, Drama     112               13.18         48   \n",
              "50 Western                      165                5.32         51   "
            ],
            "text/html": [
              "<table class=\"dataframe\">\n",
              "<caption>A data.frame: 50 × 7</caption>\n",
              "<thead>\n",
              "\t<tr><th scope=col>id</th><th scope=col>name</th><th scope=col>ratings</th><th scope=col>type</th><th scope=col>runtimes_Minutes</th><th scope=col>gross_Millions</th><th scope=col>range</th></tr>\n",
              "\t<tr><th scope=col>&lt;dbl&gt;</th><th scope=col>&lt;chr&gt;</th><th scope=col>&lt;dbl&gt;</th><th scope=col>&lt;chr&gt;</th><th scope=col>&lt;dbl&gt;</th><th scope=col>&lt;dbl&gt;</th><th scope=col>&lt;dbl&gt;</th></tr>\n",
              "</thead>\n",
              "<tbody>\n",
              "\t<tr><td> 1</td><td>The Shawshank Redemption (1994)                         </td><td>9.3</td><td>Drama                       </td><td>142</td><td> 28.34</td><td> 1</td></tr>\n",
              "\t<tr><td> 2</td><td>The Godfather (1972)                                    </td><td>9.2</td><td>Crime, Drama                </td><td>175</td><td>134.97</td><td> 2</td></tr>\n",
              "\t<tr><td> 3</td><td>The Dark Knight (2008)                                  </td><td>9.0</td><td>Action, Crime, Drama        </td><td>152</td><td>534.86</td><td> 3</td></tr>\n",
              "\t<tr><td> 4</td><td>Schindler's List (1993)                                 </td><td>9.0</td><td>Biography, Drama, History   </td><td>195</td><td> 96.90</td><td> 6</td></tr>\n",
              "\t<tr><td> 5</td><td>The Lord of the Rings: The Return of the King (2003)    </td><td>9.0</td><td>Action, Adventure, Drama    </td><td>201</td><td>377.85</td><td> 7</td></tr>\n",
              "\t<tr><td> 6</td><td>12 Angry Men (1957)                                     </td><td>9.0</td><td>Crime, Drama                </td><td> 96</td><td>  4.36</td><td> 5</td></tr>\n",
              "\t<tr><td> 7</td><td>The Godfather Part II (1974)                            </td><td>9.0</td><td>Crime, Drama                </td><td>202</td><td> 57.30</td><td> 4</td></tr>\n",
              "\t<tr><td> 8</td><td>Pulp Fiction (1994)                                     </td><td>8.9</td><td>Crime, Drama                </td><td>154</td><td>107.93</td><td> 8</td></tr>\n",
              "\t<tr><td> 9</td><td>Spider-Man: Across the Spider-Verse (2023)              </td><td>8.8</td><td>Animation, Action, Adventure</td><td>140</td><td> 19.00</td><td>NA</td></tr>\n",
              "\t<tr><td>10</td><td>Inception (2010)                                        </td><td>8.8</td><td>Action, Adventure, Sci-Fi   </td><td>148</td><td>292.58</td><td>14</td></tr>\n",
              "\t<tr><td>11</td><td>Fight Club (1999)                                       </td><td>8.8</td><td>Drama                       </td><td>139</td><td> 37.03</td><td>12</td></tr>\n",
              "\t<tr><td>12</td><td>The Lord of the Rings: The Fellowship of the Ring (2001)</td><td>8.8</td><td>Action, Adventure, Drama    </td><td>178</td><td>315.54</td><td> 9</td></tr>\n",
              "\t<tr><td>13</td><td>Forrest Gump (1994)                                     </td><td>8.8</td><td>Drama, Romance              </td><td>142</td><td>330.25</td><td>11</td></tr>\n",
              "\t<tr><td>14</td><td>The Good, the Bad and the Ugly (1966)                   </td><td>8.8</td><td>Adventure, Western          </td><td>178</td><td>  6.10</td><td>10</td></tr>\n",
              "\t<tr><td>15</td><td>The Lord of the Rings: The Two Towers (2002)            </td><td>8.8</td><td>Action, Adventure, Drama    </td><td>179</td><td>342.55</td><td>13</td></tr>\n",
              "\t<tr><td>16</td><td>Interstellar (2014)                                     </td><td>8.7</td><td>Adventure, Drama, Sci-Fi    </td><td>169</td><td>188.02</td><td>24</td></tr>\n",
              "\t<tr><td>17</td><td>Goodfellas (1990)                                       </td><td>8.7</td><td>Biography, Crime, Drama     </td><td>145</td><td> 46.84</td><td>17</td></tr>\n",
              "\t<tr><td>18</td><td>The Matrix (1999)                                       </td><td>8.7</td><td>Action, Sci-Fi              </td><td>136</td><td>171.48</td><td>16</td></tr>\n",
              "\t<tr><td>19</td><td>One Flew Over the Cuckoo's Nest (1975)                  </td><td>8.7</td><td>Drama                       </td><td>133</td><td>112.00</td><td>18</td></tr>\n",
              "\t<tr><td>20</td><td>Star Wars: Episode V - The Empire Strikes Back (1980)   </td><td>8.7</td><td>Action, Adventure, Fantasy  </td><td>124</td><td>290.48</td><td>15</td></tr>\n",
              "\t<tr><td>21</td><td>Oppenheimer (2023)                                      </td><td>8.6</td><td>Biography, Drama, History   </td><td>180</td><td> 39.00</td><td>NA</td></tr>\n",
              "\t<tr><td>22</td><td>Se7en (1995)                                            </td><td>8.6</td><td>Crime, Drama, Mystery       </td><td>127</td><td>100.13</td><td>20</td></tr>\n",
              "\t<tr><td>23</td><td>The Silence of the Lambs (1991)                         </td><td>8.6</td><td>Crime, Drama, Thriller      </td><td>118</td><td>130.74</td><td>23</td></tr>\n",
              "\t<tr><td>24</td><td>Star Wars: Episode IV - A New Hope (1977)               </td><td>8.6</td><td>Action, Adventure, Fantasy  </td><td>121</td><td>322.74</td><td>29</td></tr>\n",
              "\t<tr><td>25</td><td>The Green Mile (1999)                                   </td><td>8.6</td><td>Crime, Drama, Fantasy       </td><td>189</td><td>136.80</td><td>28</td></tr>\n",
              "\t<tr><td>26</td><td>Terminator 2: Judgment Day (1991)                       </td><td>8.6</td><td>Action, Sci-Fi              </td><td>137</td><td>204.84</td><td>30</td></tr>\n",
              "\t<tr><td>27</td><td>Saving Private Ryan (1998)                              </td><td>8.6</td><td>Drama, War                  </td><td>169</td><td>216.54</td><td>25</td></tr>\n",
              "\t<tr><td>28</td><td>Spirited Away (2001)                                    </td><td>8.6</td><td>Animation, Adventure, Family</td><td>125</td><td> 10.06</td><td>32</td></tr>\n",
              "\t<tr><td>29</td><td>City of God (2002)                                      </td><td>8.6</td><td>Crime, Drama                </td><td>130</td><td>  7.56</td><td>26</td></tr>\n",
              "\t<tr><td>30</td><td>Life Is Beautiful (1997)                                </td><td>8.6</td><td>Comedy, Drama, Romance      </td><td>116</td><td>    NA</td><td>20</td></tr>\n",
              "\t<tr><td>31</td><td>Seven Samurai (1954)                                    </td><td>8.6</td><td>Action, Drama               </td><td>207</td><td>    NA</td><td>45</td></tr>\n",
              "\t<tr><td>32</td><td>It's a Wonderful Life (1946)                            </td><td>8.6</td><td>Drama, Family, Fantasy      </td><td>130</td><td> 21.00</td><td>NA</td></tr>\n",
              "\t<tr><td>33</td><td>Harakiri (1962)                                         </td><td>8.6</td><td>Action, Drama, Mystery      </td><td>133</td><td> 47.00</td><td>NA</td></tr>\n",
              "\t<tr><td>34</td><td>Gladiator (2000)                                        </td><td>8.5</td><td>Action, Adventure, Drama    </td><td>155</td><td>187.71</td><td>36</td></tr>\n",
              "\t<tr><td>35</td><td>The Prestige (2006)                                     </td><td>8.5</td><td>Drama, Mystery, Sci-Fi      </td><td>130</td><td> 53.09</td><td>43</td></tr>\n",
              "\t<tr><td>36</td><td>Alien (1979)                                            </td><td>8.5</td><td>Horror, Sci-Fi              </td><td>117</td><td> 78.90</td><td>53</td></tr>\n",
              "\t<tr><td>37</td><td>The Departed (2006)                                     </td><td>8.5</td><td>Crime, Drama, Thriller      </td><td>151</td><td>132.38</td><td>41</td></tr>\n",
              "\t<tr><td>38</td><td>Parasite (2019)                                         </td><td>8.5</td><td>Drama, Thriller             </td><td>132</td><td> 53.37</td><td>35</td></tr>\n",
              "\t<tr><td>39</td><td>Django Unchained (2012)                                 </td><td>8.5</td><td>Drama, Western              </td><td>165</td><td>162.81</td><td>57</td></tr>\n",
              "\t<tr><td>40</td><td>Whiplash (2014)                                         </td><td>8.5</td><td>Drama, Music                </td><td>106</td><td> 13.09</td><td>42</td></tr>\n",
              "\t<tr><td>41</td><td>Léon: The Professional (1994)                           </td><td>8.5</td><td>Action, Crime, Drama        </td><td>110</td><td> 19.50</td><td>38</td></tr>\n",
              "\t<tr><td>42</td><td>Back to the Future (1985)                               </td><td>8.5</td><td>Adventure, Comedy, Sci-Fi   </td><td>116</td><td>210.61</td><td>31</td></tr>\n",
              "\t<tr><td>43</td><td>The Usual Suspects (1995)                               </td><td>8.5</td><td>Crime, Drama, Mystery       </td><td>106</td><td> 23.34</td><td>44</td></tr>\n",
              "\t<tr><td>44</td><td>The Pianist (2002)                                      </td><td>8.5</td><td>Biography, Drama, Music     </td><td>150</td><td> 32.57</td><td>33</td></tr>\n",
              "\t<tr><td>45</td><td>The Lion King (1994)                                    </td><td>8.5</td><td>Animation, Adventure, Drama </td><td> 88</td><td>422.78</td><td>37</td></tr>\n",
              "\t<tr><td>46</td><td>American History X (1998)                               </td><td>8.5</td><td>Crime, Drama                </td><td>119</td><td>  6.72</td><td>40</td></tr>\n",
              "\t<tr><td>47</td><td>Casablanca (1942)                                       </td><td>8.5</td><td>Drama, Romance, War         </td><td>102</td><td>  1.02</td><td>46</td></tr>\n",
              "\t<tr><td>48</td><td>Psycho (1960)                                           </td><td>8.5</td><td>Horror, Mystery, Thriller   </td><td>109</td><td>    NA</td><td>44</td></tr>\n",
              "\t<tr><td>49</td><td>The Intouchables (2011)                                 </td><td>8.5</td><td>Biography, Comedy, Drama    </td><td>112</td><td> 13.18</td><td>48</td></tr>\n",
              "\t<tr><td>50</td><td>Once Upon a Time in the West (1968)                     </td><td>8.5</td><td>Western                     </td><td>165</td><td>  5.32</td><td>51</td></tr>\n",
              "</tbody>\n",
              "</table>\n"
            ],
            "text/markdown": "\nA data.frame: 50 × 7\n\n| id &lt;dbl&gt; | name &lt;chr&gt; | ratings &lt;dbl&gt; | type &lt;chr&gt; | runtimes_Minutes &lt;dbl&gt; | gross_Millions &lt;dbl&gt; | range &lt;dbl&gt; |\n|---|---|---|---|---|---|---|\n|  1 | The Shawshank Redemption (1994)                          | 9.3 | Drama                        | 142 |  28.34 |  1 |\n|  2 | The Godfather (1972)                                     | 9.2 | Crime, Drama                 | 175 | 134.97 |  2 |\n|  3 | The Dark Knight (2008)                                   | 9.0 | Action, Crime, Drama         | 152 | 534.86 |  3 |\n|  4 | Schindler's List (1993)                                  | 9.0 | Biography, Drama, History    | 195 |  96.90 |  6 |\n|  5 | The Lord of the Rings: The Return of the King (2003)     | 9.0 | Action, Adventure, Drama     | 201 | 377.85 |  7 |\n|  6 | 12 Angry Men (1957)                                      | 9.0 | Crime, Drama                 |  96 |   4.36 |  5 |\n|  7 | The Godfather Part II (1974)                             | 9.0 | Crime, Drama                 | 202 |  57.30 |  4 |\n|  8 | Pulp Fiction (1994)                                      | 8.9 | Crime, Drama                 | 154 | 107.93 |  8 |\n|  9 | Spider-Man: Across the Spider-Verse (2023)               | 8.8 | Animation, Action, Adventure | 140 |  19.00 | NA |\n| 10 | Inception (2010)                                         | 8.8 | Action, Adventure, Sci-Fi    | 148 | 292.58 | 14 |\n| 11 | Fight Club (1999)                                        | 8.8 | Drama                        | 139 |  37.03 | 12 |\n| 12 | The Lord of the Rings: The Fellowship of the Ring (2001) | 8.8 | Action, Adventure, Drama     | 178 | 315.54 |  9 |\n| 13 | Forrest Gump (1994)                                      | 8.8 | Drama, Romance               | 142 | 330.25 | 11 |\n| 14 | The Good, the Bad and the Ugly (1966)                    | 8.8 | Adventure, Western           | 178 |   6.10 | 10 |\n| 15 | The Lord of the Rings: The Two Towers (2002)             | 8.8 | Action, Adventure, Drama     | 179 | 342.55 | 13 |\n| 16 | Interstellar (2014)                                      | 8.7 | Adventure, Drama, Sci-Fi     | 169 | 188.02 | 24 |\n| 17 | Goodfellas (1990)                                        | 8.7 | Biography, Crime, Drama      | 145 |  46.84 | 17 |\n| 18 | The Matrix (1999)                                        | 8.7 | Action, Sci-Fi               | 136 | 171.48 | 16 |\n| 19 | One Flew Over the Cuckoo's Nest (1975)                   | 8.7 | Drama                        | 133 | 112.00 | 18 |\n| 20 | Star Wars: Episode V - The Empire Strikes Back (1980)    | 8.7 | Action, Adventure, Fantasy   | 124 | 290.48 | 15 |\n| 21 | Oppenheimer (2023)                                       | 8.6 | Biography, Drama, History    | 180 |  39.00 | NA |\n| 22 | Se7en (1995)                                             | 8.6 | Crime, Drama, Mystery        | 127 | 100.13 | 20 |\n| 23 | The Silence of the Lambs (1991)                          | 8.6 | Crime, Drama, Thriller       | 118 | 130.74 | 23 |\n| 24 | Star Wars: Episode IV - A New Hope (1977)                | 8.6 | Action, Adventure, Fantasy   | 121 | 322.74 | 29 |\n| 25 | The Green Mile (1999)                                    | 8.6 | Crime, Drama, Fantasy        | 189 | 136.80 | 28 |\n| 26 | Terminator 2: Judgment Day (1991)                        | 8.6 | Action, Sci-Fi               | 137 | 204.84 | 30 |\n| 27 | Saving Private Ryan (1998)                               | 8.6 | Drama, War                   | 169 | 216.54 | 25 |\n| 28 | Spirited Away (2001)                                     | 8.6 | Animation, Adventure, Family | 125 |  10.06 | 32 |\n| 29 | City of God (2002)                                       | 8.6 | Crime, Drama                 | 130 |   7.56 | 26 |\n| 30 | Life Is Beautiful (1997)                                 | 8.6 | Comedy, Drama, Romance       | 116 |     NA | 20 |\n| 31 | Seven Samurai (1954)                                     | 8.6 | Action, Drama                | 207 |     NA | 45 |\n| 32 | It's a Wonderful Life (1946)                             | 8.6 | Drama, Family, Fantasy       | 130 |  21.00 | NA |\n| 33 | Harakiri (1962)                                          | 8.6 | Action, Drama, Mystery       | 133 |  47.00 | NA |\n| 34 | Gladiator (2000)                                         | 8.5 | Action, Adventure, Drama     | 155 | 187.71 | 36 |\n| 35 | The Prestige (2006)                                      | 8.5 | Drama, Mystery, Sci-Fi       | 130 |  53.09 | 43 |\n| 36 | Alien (1979)                                             | 8.5 | Horror, Sci-Fi               | 117 |  78.90 | 53 |\n| 37 | The Departed (2006)                                      | 8.5 | Crime, Drama, Thriller       | 151 | 132.38 | 41 |\n| 38 | Parasite (2019)                                          | 8.5 | Drama, Thriller              | 132 |  53.37 | 35 |\n| 39 | Django Unchained (2012)                                  | 8.5 | Drama, Western               | 165 | 162.81 | 57 |\n| 40 | Whiplash (2014)                                          | 8.5 | Drama, Music                 | 106 |  13.09 | 42 |\n| 41 | Léon: The Professional (1994)                            | 8.5 | Action, Crime, Drama         | 110 |  19.50 | 38 |\n| 42 | Back to the Future (1985)                                | 8.5 | Adventure, Comedy, Sci-Fi    | 116 | 210.61 | 31 |\n| 43 | The Usual Suspects (1995)                                | 8.5 | Crime, Drama, Mystery        | 106 |  23.34 | 44 |\n| 44 | The Pianist (2002)                                       | 8.5 | Biography, Drama, Music      | 150 |  32.57 | 33 |\n| 45 | The Lion King (1994)                                     | 8.5 | Animation, Adventure, Drama  |  88 | 422.78 | 37 |\n| 46 | American History X (1998)                                | 8.5 | Crime, Drama                 | 119 |   6.72 | 40 |\n| 47 | Casablanca (1942)                                        | 8.5 | Drama, Romance, War          | 102 |   1.02 | 46 |\n| 48 | Psycho (1960)                                            | 8.5 | Horror, Mystery, Thriller    | 109 |     NA | 44 |\n| 49 | The Intouchables (2011)                                  | 8.5 | Biography, Comedy, Drama     | 112 |  13.18 | 48 |\n| 50 | Once Upon a Time in the West (1968)                      | 8.5 | Western                      | 165 |   5.32 | 51 |\n\n",
            "text/latex": "A data.frame: 50 × 7\n\\begin{tabular}{lllllll}\n id & name & ratings & type & runtimes\\_Minutes & gross\\_Millions & range\\\\\n <dbl> & <chr> & <dbl> & <chr> & <dbl> & <dbl> & <dbl>\\\\\n\\hline\n\t  1 & The Shawshank Redemption (1994)                          & 9.3 & Drama                        & 142 &  28.34 &  1\\\\\n\t  2 & The Godfather (1972)                                     & 9.2 & Crime, Drama                 & 175 & 134.97 &  2\\\\\n\t  3 & The Dark Knight (2008)                                   & 9.0 & Action, Crime, Drama         & 152 & 534.86 &  3\\\\\n\t  4 & Schindler's List (1993)                                  & 9.0 & Biography, Drama, History    & 195 &  96.90 &  6\\\\\n\t  5 & The Lord of the Rings: The Return of the King (2003)     & 9.0 & Action, Adventure, Drama     & 201 & 377.85 &  7\\\\\n\t  6 & 12 Angry Men (1957)                                      & 9.0 & Crime, Drama                 &  96 &   4.36 &  5\\\\\n\t  7 & The Godfather Part II (1974)                             & 9.0 & Crime, Drama                 & 202 &  57.30 &  4\\\\\n\t  8 & Pulp Fiction (1994)                                      & 8.9 & Crime, Drama                 & 154 & 107.93 &  8\\\\\n\t  9 & Spider-Man: Across the Spider-Verse (2023)               & 8.8 & Animation, Action, Adventure & 140 &  19.00 & NA\\\\\n\t 10 & Inception (2010)                                         & 8.8 & Action, Adventure, Sci-Fi    & 148 & 292.58 & 14\\\\\n\t 11 & Fight Club (1999)                                        & 8.8 & Drama                        & 139 &  37.03 & 12\\\\\n\t 12 & The Lord of the Rings: The Fellowship of the Ring (2001) & 8.8 & Action, Adventure, Drama     & 178 & 315.54 &  9\\\\\n\t 13 & Forrest Gump (1994)                                      & 8.8 & Drama, Romance               & 142 & 330.25 & 11\\\\\n\t 14 & The Good, the Bad and the Ugly (1966)                    & 8.8 & Adventure, Western           & 178 &   6.10 & 10\\\\\n\t 15 & The Lord of the Rings: The Two Towers (2002)             & 8.8 & Action, Adventure, Drama     & 179 & 342.55 & 13\\\\\n\t 16 & Interstellar (2014)                                      & 8.7 & Adventure, Drama, Sci-Fi     & 169 & 188.02 & 24\\\\\n\t 17 & Goodfellas (1990)                                        & 8.7 & Biography, Crime, Drama      & 145 &  46.84 & 17\\\\\n\t 18 & The Matrix (1999)                                        & 8.7 & Action, Sci-Fi               & 136 & 171.48 & 16\\\\\n\t 19 & One Flew Over the Cuckoo's Nest (1975)                   & 8.7 & Drama                        & 133 & 112.00 & 18\\\\\n\t 20 & Star Wars: Episode V - The Empire Strikes Back (1980)    & 8.7 & Action, Adventure, Fantasy   & 124 & 290.48 & 15\\\\\n\t 21 & Oppenheimer (2023)                                       & 8.6 & Biography, Drama, History    & 180 &  39.00 & NA\\\\\n\t 22 & Se7en (1995)                                             & 8.6 & Crime, Drama, Mystery        & 127 & 100.13 & 20\\\\\n\t 23 & The Silence of the Lambs (1991)                          & 8.6 & Crime, Drama, Thriller       & 118 & 130.74 & 23\\\\\n\t 24 & Star Wars: Episode IV - A New Hope (1977)                & 8.6 & Action, Adventure, Fantasy   & 121 & 322.74 & 29\\\\\n\t 25 & The Green Mile (1999)                                    & 8.6 & Crime, Drama, Fantasy        & 189 & 136.80 & 28\\\\\n\t 26 & Terminator 2: Judgment Day (1991)                        & 8.6 & Action, Sci-Fi               & 137 & 204.84 & 30\\\\\n\t 27 & Saving Private Ryan (1998)                               & 8.6 & Drama, War                   & 169 & 216.54 & 25\\\\\n\t 28 & Spirited Away (2001)                                     & 8.6 & Animation, Adventure, Family & 125 &  10.06 & 32\\\\\n\t 29 & City of God (2002)                                       & 8.6 & Crime, Drama                 & 130 &   7.56 & 26\\\\\n\t 30 & Life Is Beautiful (1997)                                 & 8.6 & Comedy, Drama, Romance       & 116 &     NA & 20\\\\\n\t 31 & Seven Samurai (1954)                                     & 8.6 & Action, Drama                & 207 &     NA & 45\\\\\n\t 32 & It's a Wonderful Life (1946)                             & 8.6 & Drama, Family, Fantasy       & 130 &  21.00 & NA\\\\\n\t 33 & Harakiri (1962)                                          & 8.6 & Action, Drama, Mystery       & 133 &  47.00 & NA\\\\\n\t 34 & Gladiator (2000)                                         & 8.5 & Action, Adventure, Drama     & 155 & 187.71 & 36\\\\\n\t 35 & The Prestige (2006)                                      & 8.5 & Drama, Mystery, Sci-Fi       & 130 &  53.09 & 43\\\\\n\t 36 & Alien (1979)                                             & 8.5 & Horror, Sci-Fi               & 117 &  78.90 & 53\\\\\n\t 37 & The Departed (2006)                                      & 8.5 & Crime, Drama, Thriller       & 151 & 132.38 & 41\\\\\n\t 38 & Parasite (2019)                                          & 8.5 & Drama, Thriller              & 132 &  53.37 & 35\\\\\n\t 39 & Django Unchained (2012)                                  & 8.5 & Drama, Western               & 165 & 162.81 & 57\\\\\n\t 40 & Whiplash (2014)                                          & 8.5 & Drama, Music                 & 106 &  13.09 & 42\\\\\n\t 41 & Léon: The Professional (1994)                            & 8.5 & Action, Crime, Drama         & 110 &  19.50 & 38\\\\\n\t 42 & Back to the Future (1985)                                & 8.5 & Adventure, Comedy, Sci-Fi    & 116 & 210.61 & 31\\\\\n\t 43 & The Usual Suspects (1995)                                & 8.5 & Crime, Drama, Mystery        & 106 &  23.34 & 44\\\\\n\t 44 & The Pianist (2002)                                       & 8.5 & Biography, Drama, Music      & 150 &  32.57 & 33\\\\\n\t 45 & The Lion King (1994)                                     & 8.5 & Animation, Adventure, Drama  &  88 & 422.78 & 37\\\\\n\t 46 & American History X (1998)                                & 8.5 & Crime, Drama                 & 119 &   6.72 & 40\\\\\n\t 47 & Casablanca (1942)                                        & 8.5 & Drama, Romance, War          & 102 &   1.02 & 46\\\\\n\t 48 & Psycho (1960)                                            & 8.5 & Horror, Mystery, Thriller    & 109 &     NA & 44\\\\\n\t 49 & The Intouchables (2011)                                  & 8.5 & Biography, Comedy, Drama     & 112 &  13.18 & 48\\\\\n\t 50 & Once Upon a Time in the West (1968)                      & 8.5 & Western                      & 165 &   5.32 & 51\\\\\n\\end{tabular}\n"
          },
          "metadata": {}
        }
      ]
    }
  ]
}
