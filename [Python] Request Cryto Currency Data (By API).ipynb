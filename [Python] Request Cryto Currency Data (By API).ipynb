{
  "nbformat": 4,
  "nbformat_minor": 0,
  "metadata": {
    "colab": {
      "provenance": []
    },
    "kernelspec": {
      "name": "python3",
      "display_name": "Python 3"
    },
    "language_info": {
      "name": "python"
    }
  },
  "cells": [
    {
      "cell_type": "code",
      "execution_count": null,
      "metadata": {
        "id": "DzzUwAIINJre"
      },
      "outputs": [],
      "source": [
        "# import package\n",
        "from requests import get\n",
        "from time import sleep\n",
        "import pandas as pd\n",
        "import json"
      ]
    },
    {
      "cell_type": "code",
      "source": [
        "# request data from api\n",
        "url = \"https://www.fruityvice.com/api/fruit/all\"\n",
        "response = get(url)\n",
        "\n",
        "# convert data to .json format\n",
        "data = response.json()\n",
        "\n",
        "# create for loop to seperate data of each fruit and input it into blank list\n",
        "result = []\n",
        "\n",
        "for i in list(range(0,len(data))) :\n",
        "    row = [\n",
        "    data[i][\"name\"],\n",
        "    data[i][\"nutritions\"][\"calories\"],\n",
        "    data[i][\"nutritions\"][\"fat\"],\n",
        "    data[i][\"nutritions\"][\"sugar\"],\n",
        "    data[i][\"nutritions\"][\"carbohydrates\"],\n",
        "    data[i][\"nutritions\"][\"protein\"]\n",
        "        ]\n",
        "    result.append(row)\n",
        "    sleep(1)\n",
        "\n",
        "# create dataframe from list\n",
        "df = pd.DataFrame(result,columns=[\"name\",\"calories\",\"fat\",\"sugar\",\"carbohydrates\",\"protein\"])\n",
        "\n",
        "# write to .csv file\n",
        "df.to_csv(\"fruit_nutri.csv\")"
      ],
      "metadata": {
        "id": "zHUwoX4OQVz7"
      },
      "execution_count": null,
      "outputs": []
    }
  ]
}
